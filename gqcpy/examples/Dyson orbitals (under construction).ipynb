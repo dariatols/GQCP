{
 "cells": [
  {
   "cell_type": "code",
   "execution_count": 37,
   "metadata": {},
   "outputs": [],
   "source": [
    "# Force the local gqcpy to be imported\n",
    "import sys\n",
    "sys.path.insert(0, '../../build/gqcpy/')\n",
    "\n",
    "import gqcpy\n",
    "import numpy as np"
   ]
  },
  {
   "cell_type": "markdown",
   "metadata": {},
   "source": [
    "# Preliminary functions\n",
    "Functions that make our life easier, since we will be reusing some code."
   ]
  },
  {
   "cell_type": "code",
   "execution_count": null,
   "metadata": {},
   "outputs": [],
   "source": [
    "def dimensions(molecule):\n",
    "    \"\"\"\n",
    "    Return the dimensions (N, M) of a molecule in a given basis. \n",
    "    \"\"\"\n",
    "    N = molecule.numberOfElectrons()\n",
    "\n",
    "    spin_orbital_basis = gqcpy.USpinOrbitalBasis_d(molecule, \"STO-3G\")\n",
    "    M = spin_orbital_basis.numberOfSpinors()\n",
    "    \n",
    "    return (N, M)"
   ]
  },
  {
   "cell_type": "code",
   "execution_count": 30,
   "metadata": {},
   "outputs": [],
   "source": [
    "def onv_bases(N, K, transition = \"detachment\"):\n",
    "    \"\"\"\n",
    "    Create two ONV bases, based on whether we're describing an electron attachment or detachment.\n",
    "    \"\"\"\n",
    "\n",
    "    N_alpha = N//2 + 1 if N%2 else N//2\n",
    "    N_beta = N//2\n",
    "    \n",
    "    if transition == \"detachment\":\n",
    "        onv_basis_I = gqcpy.SpinResolvedONVBasis(K, N_alpha - 1, N_beta)  # number of spatial orbitals, number of alpha-electrons, number of beta-electrons\n",
    "        onv_basis_J = gqcpy.SpinResolvedONVBasis(K, N_alpha, N_beta)  # number of spatial orbitals, number of alpha-electrons, number of beta-electrons\n",
    "        \n",
    "    elif transition == \"attachment\":\n",
    "        onv_basis_I = gqcpy.SpinResolvedONVBasis(K, N_alpha, N_beta)  # number of spatial orbitals, number of alpha-electrons, number of beta-electrons\n",
    "        onv_basis_J = gqcpy.SpinResolvedONVBasis(K, N_alpha + 1, N_beta)  # number of spatial orbitals, number of alpha-electrons, number of beta-electrons\n",
    "        \n",
    "    else:\n",
    "        print(\"Specify a valid electron transition process: attachment/detachment.\")\n",
    "        return None\n",
    "    \n",
    "    return (onv_basis_I, onv_basis_J)"
   ]
  },
  {
   "cell_type": "code",
   "execution_count": 2,
   "metadata": {},
   "outputs": [],
   "source": [
    "def UHF(molecule):\n",
    "    N = molecule.numberOfElectrons()\n",
    "    N_alpha = N//2 + 1 if N%2 else N//2\n",
    "    N_beta = N//2\n",
    "\n",
    "    spinor_basis = gqcpy.RSpinOrbitalBasis_d(molecule, \"STO-3G\")\n",
    "    K = spinor_basis.numberOfSpatialOrbitals()\n",
    "    print(molecule)\n",
    "    print(\"N_alpha: {}\\nN_beta: {}\\nK: {}\\n----------------------------------------\\n\".format(N_alpha, N_beta, K))\n",
    "    \n",
    "    hamiltonian = gqcpy.RSQHamiltonian.Molecular(spinor_basis, molecule) \n",
    "    S = spinor_basis.quantizeOverlapOperator().parameters()\n",
    "    \n",
    "    environment = gqcpy.UHFSCFEnvironment.WithCoreGuess(N_alpha, N_beta, hamiltonian, S)\n",
    "    solver = gqcpy.UHFSCFSolver.Plain()\n",
    "    uhf_parameters = gqcpy.UHF.optimize(solver, environment).groundStateParameters()\n",
    "    \n",
    "    return uhf_parameters.expansion()"
   ]
  },
  {
   "cell_type": "code",
   "execution_count": 3,
   "metadata": {},
   "outputs": [],
   "source": [
    "def uFCI(molecule, onv_basis):\n",
    "    u_spin_orbital_basis = gqcpy.USpinOrbitalBasis_d(molecule, \"STO-3G\")\n",
    "    u_spin_orbital_basis.lowdinOrthonormalize()\n",
    "    \n",
    "    u_hamiltonian = gqcpy.USQHamiltonian.Molecular(u_spin_orbital_basis, molecule)\n",
    "    \n",
    "    solver = gqcpy.EigenproblemSolver.Dense()\n",
    "    environment = gqcpy.CIEnvironment.Dense(u_hamiltonian, onv_basis)\n",
    "\n",
    "    ci_parameters = gqcpy.CI(onv_basis).optimize(solver, environment).groundStateParameters()\n",
    "    \n",
    "    return ci_parameters"
   ]
  },
  {
   "cell_type": "markdown",
   "metadata": {},
   "source": [
    "# Preparation of some variables"
   ]
  },
  {
   "cell_type": "markdown",
   "metadata": {},
   "source": [
    "Generate the neutral molecule with N electrons, a positive ion with N-1 electrons (charge +1) and a negative ion with N+1 electrons (charge -1)."
   ]
  },
  {
   "cell_type": "code",
   "execution_count": 4,
   "metadata": {},
   "outputs": [],
   "source": [
    "neutral_molecule = gqcpy.Molecule.ReadXYZ(\"../../gqcp/tests/data/h2o_crawdad.xyz\" , 0)  # create a neutral molecule with N electrons\n",
    "positive_ion = gqcpy.Molecule.ReadXYZ(\"../../gqcp/tests/data/h2o_crawdad.xyz\" , +1)  # create a an ion N-1 electrons\n",
    "negative_ion = gqcpy.Molecule.ReadXYZ(\"../../gqcp/tests/data/h2o_crawdad.xyz\" , +1)  # create a an ion with N+1 electrons"
   ]
  },
  {
   "cell_type": "markdown",
   "metadata": {},
   "source": [
    "Build an ONV basis for a specified electron transition process, given the dimensions N and K. Here, we choose an electron detachment."
   ]
  },
  {
   "cell_type": "code",
   "execution_count": 31,
   "metadata": {},
   "outputs": [],
   "source": [
    "N, M = dimensions(neutral_molecule)\n",
    "K = M//2 # number of spinors per spin compound\n",
    "\n",
    "onv_basis_I, onv_basis_J = onv_bases(N, K, \"detachment\")"
   ]
  },
  {
   "cell_type": "markdown",
   "metadata": {},
   "source": [
    "# Dyson orbitals in the uncorrelated limit"
   ]
  },
  {
   "cell_type": "markdown",
   "metadata": {},
   "source": [
    "Build the linear expansion for a CI wave function in the Hartree-Fock formalism, where all coefficients of a given ONV basis are zero except for the HF determinant."
   ]
  },
  {
   "cell_type": "code",
   "execution_count": 26,
   "metadata": {},
   "outputs": [],
   "source": [
    "Psi_I = gqcpy.LinearExpansion_SpinResolved.HartreeFock(onv_basis_I)\n",
    "Psi_J = gqcpy.LinearExpansion_SpinResolved.HartreeFock(onv_basis_J)"
   ]
  },
  {
   "cell_type": "markdown",
   "metadata": {},
   "source": [
    "Construct Dyson orbitals using the \"pseudo overlap\" between an N-1 wave function and a N wave function with an annihilated electron in each spinor."
   ]
  },
  {
   "cell_type": "code",
   "execution_count": 27,
   "metadata": {},
   "outputs": [
    {
     "data": {
      "text/plain": [
       "array([0., 0., 0., 0., 1., 0., 0.])"
      ]
     },
     "execution_count": 27,
     "metadata": {},
     "output_type": "execute_result"
    }
   ],
   "source": [
    "d_IJ = gqcpy.DysonOrbital.TransitionAmplitudes(Psi_J, Psi_I)\n",
    "d_IJ.amplitudes()"
   ]
  },
  {
   "cell_type": "markdown",
   "metadata": {},
   "source": [
    "In a Hartree-Fock picture, the difference of two electron densities, one of an $N$-electron system and the other of a $(N-1)$-electron system, should be reduced to the norm of a Dyson orbital. For a more profound theoretical explanation, the reader is referred to [this page](https://gqcg-res.github.io/dariatols_knowdes/correlation-in-the-dyson-orbital-picture.html#uncorrelated-limit). "
   ]
  },
  {
   "cell_type": "markdown",
   "metadata": {},
   "source": [
    "In a spin-orbital basis, we have an $\\alpha$ and $\\beta$ 1-DM and the total 1-DM is the sum of both parts."
   ]
  },
  {
   "cell_type": "code",
   "execution_count": 53,
   "metadata": {},
   "outputs": [
    {
     "name": "stdout",
     "output_type": "stream",
     "text": [
      "Electron density for |N-1, (I)>:\n",
      "9.0\n",
      "\n",
      "-------------------------\n",
      "\n",
      "Electron density for |N, (J)>:\n",
      "10.0\n"
     ]
    }
   ],
   "source": [
    "electron_density_I = np.sum( np.diagonal( Psi_I.calculate1DM() ) )\n",
    "electron_density_J = np.sum( np.diagonal( Psi_J.calculate1DM() ) )\n",
    "\n",
    "print(\"Electron density for |N-1, (I)>:\")\n",
    "print(electron_density_I)\n",
    "\n",
    "print(\"\\n\" + \"-\"*25 + \"\\n\")\n",
    "\n",
    "print(\"Electron density for |N, (J)>:\")\n",
    "print(electron_density_J)"
   ]
  },
  {
   "cell_type": "code",
   "execution_count": 55,
   "metadata": {},
   "outputs": [
    {
     "data": {
      "text/plain": [
       "True"
      ]
     },
     "execution_count": 55,
     "metadata": {},
     "output_type": "execute_result"
    }
   ],
   "source": [
    "print(\"Is the difference between the N and (N-1) electron density equal to the Dyson orbital that represents a transition amplit\")\n",
    "print( electron_density_J - electron_density_I == np.sum(d_IJ.amplitudes()) )"
   ]
  },
  {
   "cell_type": "code",
   "execution_count": 49,
   "metadata": {},
   "outputs": [
    {
     "data": {
      "text/plain": [
       "True"
      ]
     },
     "execution_count": 49,
     "metadata": {},
     "output_type": "execute_result"
    }
   ],
   "source": []
  },
  {
   "cell_type": "code",
   "execution_count": 29,
   "metadata": {},
   "outputs": [
    {
     "data": {
      "text/plain": [
       "array([1., 0., 0., 0., 0., 0., 0., 0., 0., 0., 0., 0., 0., 0., 0., 0., 0.,\n",
       "       0., 0., 0., 0., 0., 0., 0., 0., 0., 0., 0., 0., 0., 0., 0., 0., 0.,\n",
       "       0., 0., 0., 0., 0., 0., 0., 0., 0., 0., 0., 0., 0., 0., 0., 0., 0.,\n",
       "       0., 0., 0., 0., 0., 0., 0., 0., 0., 0., 0., 0., 0., 0., 0., 0., 0.,\n",
       "       0., 0., 0., 0., 0., 0., 0., 0., 0., 0., 0., 0., 0., 0., 0., 0., 0.,\n",
       "       0., 0., 0., 0., 0., 0., 0., 0., 0., 0., 0., 0., 0., 0., 0., 0., 0.,\n",
       "       0., 0., 0., 0., 0., 0., 0., 0., 0., 0., 0., 0., 0., 0., 0., 0., 0.,\n",
       "       0., 0., 0., 0., 0., 0., 0., 0., 0., 0., 0., 0., 0., 0., 0., 0., 0.,\n",
       "       0., 0., 0., 0., 0., 0., 0., 0., 0., 0., 0., 0., 0., 0., 0., 0., 0.,\n",
       "       0., 0., 0., 0., 0., 0., 0., 0., 0., 0., 0., 0., 0., 0., 0., 0., 0.,\n",
       "       0., 0., 0., 0., 0., 0., 0., 0., 0., 0., 0., 0., 0., 0., 0., 0., 0.,\n",
       "       0., 0., 0., 0., 0., 0., 0., 0., 0., 0., 0., 0., 0., 0., 0., 0., 0.,\n",
       "       0., 0., 0., 0., 0., 0., 0., 0., 0., 0., 0., 0., 0., 0., 0., 0., 0.,\n",
       "       0., 0., 0., 0., 0., 0., 0., 0., 0., 0., 0., 0., 0., 0., 0., 0., 0.,\n",
       "       0., 0., 0., 0., 0., 0., 0., 0., 0., 0., 0., 0., 0., 0., 0., 0., 0.,\n",
       "       0., 0., 0., 0., 0., 0., 0., 0., 0., 0., 0., 0., 0., 0., 0., 0., 0.,\n",
       "       0., 0., 0., 0., 0., 0., 0., 0., 0., 0., 0., 0., 0., 0., 0., 0., 0.,\n",
       "       0., 0., 0., 0., 0., 0., 0., 0., 0., 0., 0., 0., 0., 0., 0., 0., 0.,\n",
       "       0., 0., 0., 0., 0., 0., 0., 0., 0., 0., 0., 0., 0., 0., 0., 0., 0.,\n",
       "       0., 0., 0., 0., 0., 0., 0., 0., 0., 0., 0., 0., 0., 0., 0., 0., 0.,\n",
       "       0., 0., 0., 0., 0., 0., 0., 0., 0., 0., 0., 0., 0., 0., 0., 0., 0.,\n",
       "       0., 0., 0., 0., 0., 0., 0., 0., 0., 0., 0., 0., 0., 0., 0., 0., 0.,\n",
       "       0., 0., 0., 0., 0., 0., 0., 0., 0., 0., 0., 0., 0., 0., 0., 0., 0.,\n",
       "       0., 0., 0., 0., 0., 0., 0., 0., 0., 0., 0., 0., 0., 0., 0., 0., 0.,\n",
       "       0., 0., 0., 0., 0., 0., 0., 0., 0., 0., 0., 0., 0., 0., 0., 0., 0.,\n",
       "       0., 0., 0., 0., 0., 0., 0., 0., 0., 0., 0., 0., 0., 0., 0., 0.])"
      ]
     },
     "execution_count": 29,
     "metadata": {},
     "output_type": "execute_result"
    }
   ],
   "source": []
  },
  {
   "cell_type": "code",
   "execution_count": null,
   "metadata": {},
   "outputs": [],
   "source": []
  }
 ],
 "metadata": {
  "kernelspec": {
   "display_name": "Python 3",
   "language": "python",
   "name": "python3"
  },
  "language_info": {
   "codemirror_mode": {
    "name": "ipython",
    "version": 3
   },
   "file_extension": ".py",
   "mimetype": "text/x-python",
   "name": "python",
   "nbconvert_exporter": "python",
   "pygments_lexer": "ipython3",
   "version": "3.7.7"
  }
 },
 "nbformat": 4,
 "nbformat_minor": 4
}
