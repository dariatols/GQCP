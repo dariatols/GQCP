{
 "cells": [
  {
   "cell_type": "code",
   "execution_count": 1,
   "metadata": {},
   "outputs": [],
   "source": [
    "# Force the local gqcpy to be imported\n",
    "import sys\n",
    "sys.path.insert(0, '../../build/gqcpy/')\n",
    "\n",
    "import gqcpy\n",
    "import numpy as np"
   ]
  },
  {
   "cell_type": "code",
   "execution_count": 2,
   "metadata": {},
   "outputs": [],
   "source": [
    "neutral = gqcpy.Molecule.ReadXYZ(\"../../gqcp/tests/data/h2o_crawdad.xyz\" , 0)  # create a neutral molecule\n",
    "ion_pos = gqcpy.Molecule.ReadXYZ(\"../../gqcp/tests/data/h2o_crawdad.xyz\" , +1)  # create a an ion with a depleted electron\n",
    "ion_neg = gqcpy.Molecule.ReadXYZ(\"../../gqcp/tests/data/h2o_crawdad.xyz\" , +1)  # create a an ion with an extra electron"
   ]
  },
  {
   "cell_type": "code",
   "execution_count": 3,
   "metadata": {},
   "outputs": [],
   "source": [
    "def C_RHF(molecule):\n",
    "    \n",
    "    N = molecule.numberOfElectrons()\n",
    "    N_P = molecule.numberOfElectronPairs()\n",
    "    \n",
    "    spin_orbital_basis = gqcpy.RSpinOrbitalBasis_d(molecule, \"STO-3G\")\n",
    "    K = spin_orbital_basis.numberOfSpatialOrbitals()\n",
    "    print(\"N: {}\\nN_P: {}\\nK: {}\".format(N, N_P, K))\n",
    "\n",
    "    hamiltonian = gqcpy.RSQHamiltonian.Molecular(spin_orbital_basis, molecule)\n",
    "    S = spin_orbital_basis.quantizeOverlapOperator().parameters()\n",
    "\n",
    "    environment = gqcpy.RHFSCFEnvironment.WithCoreGuess(N, hamiltonian, S)\n",
    "    solver = gqcpy.RHFSCFSolver.Plain()\n",
    "    objective = gqcpy.DiagonalRHFFockMatrixObjective(hamiltonian)  # use the default threshold of 1.0e-08\n",
    "    rhf_parameters = gqcpy.RHF.optimize(objective, solver, environment).groundStateParameters()\n",
    "    \n",
    "    return rhf_parameters.expansion()"
   ]
  },
  {
   "cell_type": "code",
   "execution_count": 4,
   "metadata": {},
   "outputs": [],
   "source": [
    "def C_UHF(molecule):\n",
    "    N = molecule.numberOfElectrons()\n",
    "    N_alpha = N//2 + 1 if N%2 else N//2\n",
    "    N_beta = N//2\n",
    "\n",
    "    spinor_basis = gqcpy.RSpinOrbitalBasis_d(molecule, \"STO-3G\")\n",
    "    K = spinor_basis.numberOfSpatialOrbitals()\n",
    "    print(\"N_alpha: {}\\nN_beta: {}\\nK: {}\".format(N_alpha, N_beta, K))\n",
    "    \n",
    "    hamiltonian = gqcpy.RSQHamiltonian.Molecular(spinor_basis, molecule) \n",
    "    S = spinor_basis.quantizeOverlapOperator().parameters()\n",
    "    \n",
    "    environment = gqcpy.UHFSCFEnvironment.WithCoreGuess(N_alpha, N_beta, hamiltonian, S)\n",
    "    solver = gqcpy.UHFSCFSolver.Plain()\n",
    "    uhf_parameters = gqcpy.UHF.optimize(solver, environment).groundStateParameters()\n",
    "    return uhf_parameters.expansion()"
   ]
  },
  {
   "cell_type": "code",
   "execution_count": 5,
   "metadata": {},
   "outputs": [
    {
     "name": "stdout",
     "output_type": "stream",
     "text": [
      "neutral molecule: \n",
      "N_alpha: 5\n",
      "N_beta: 5\n",
      "K: 7\n",
      "\n",
      "\n",
      "ion:\n",
      "N_alpha: 5\n",
      "N_beta: 4\n",
      "K: 7\n"
     ]
    }
   ],
   "source": [
    "print(\"neutral molecule: \")\n",
    "C_neutral = C_UHF(neutral)\n",
    "print(\"\\n\\nion:\")\n",
    "C_ion = C_UHF(ion_pos)"
   ]
  },
  {
   "cell_type": "code",
   "execution_count": 6,
   "metadata": {},
   "outputs": [],
   "source": [
    "def TM(C_ion, C_neutral):\n",
    "    return C_ion.inverse().transformed(C_neutral)"
   ]
  },
  {
   "cell_type": "code",
   "execution_count": 7,
   "metadata": {},
   "outputs": [],
   "source": [
    "U_alpha = TM(C_ion.alpha, C_neutral.alpha)\n",
    "U_beta = TM(C_ion.beta, C_neutral.beta)\n",
    "\n",
    "U = TM(C_ion, C_neutral)"
   ]
  },
  {
   "cell_type": "code",
   "execution_count": 8,
   "metadata": {},
   "outputs": [
    {
     "name": "stdout",
     "output_type": "stream",
     "text": [
      "Is C_ion unitary?  False\n",
      "Is C_neutral unitary?  False\n",
      "Is U unitary?  True\n"
     ]
    }
   ],
   "source": [
    "print(\"Is C_ion unitary? \", C_ion.isUnitary(1e-12))\n",
    "print(\"Is C_neutral unitary? \", C_neutral.isUnitary(1e-12))\n",
    "print(\"Is U unitary? \", U.isUnitary(1e-12))"
   ]
  },
  {
   "cell_type": "code",
   "execution_count": 9,
   "metadata": {},
   "outputs": [],
   "source": [
    "K = 7\n",
    "\n",
    "onv_basis_I = gqcpy.SpinResolvedONVBasis(K, 5, 4)  # number of spatial orbitals, number of alpha-electrons, number of beta-electrons\n",
    "onv_basis_J = gqcpy.SpinResolvedONVBasis(K, 5, 5)  # number of spatial orbitals, number of alpha-electrons, number of beta-electrons"
   ]
  },
  {
   "cell_type": "code",
   "execution_count": 10,
   "metadata": {},
   "outputs": [],
   "source": [
    "Psi_I = gqcpy.LinearExpansion_SpinResolved.HartreeFock(onv_basis_I)\n",
    "#Psi_I.coefficients()\n",
    "Psi_J = gqcpy.LinearExpansion_SpinResolved.HartreeFock(onv_basis_J)\n",
    "#Psi_J.coefficients()"
   ]
  },
  {
   "cell_type": "code",
   "execution_count": 11,
   "metadata": {},
   "outputs": [],
   "source": [
    "# Andere namen verzinnen voor de componenten later.\n",
    "DM_I = Psi_I.calculateSpinResolved1DM()\n",
    "DM_I_OD = DM_I.orbitalDensity()\n",
    "\n",
    "DM_J = Psi_J.calculateSpinResolved1DM()\n",
    "DM_J_OD = DM_J.orbitalDensity()"
   ]
  },
  {
   "cell_type": "code",
   "execution_count": 12,
   "metadata": {},
   "outputs": [
    {
     "data": {
      "text/plain": [
       "array([[1., 0., 0., 0., 0., 0., 0.],\n",
       "       [0., 1., 0., 0., 0., 0., 0.],\n",
       "       [0., 0., 1., 0., 0., 0., 0.],\n",
       "       [0., 0., 0., 1., 0., 0., 0.],\n",
       "       [0., 0., 0., 0., 0., 0., 1.],\n",
       "       [0., 0., 0., 0., 1., 0., 0.],\n",
       "       [0., 0., 0., 0., 0., 1., 0.]])"
      ]
     },
     "execution_count": 12,
     "metadata": {},
     "output_type": "execute_result"
    }
   ],
   "source": [
    "DM_I_transformed = DM_I.transformed(U)\n",
    "\n",
    "fukui_matrix_neg = (DM_J - DM_I).orbitalDensity()\n",
    "eigenvalues, eigenvectors = np.linalg.eigh(fukui_matrix_neg)\n",
    "eigenvectors"
   ]
  },
  {
   "cell_type": "code",
   "execution_count": 14,
   "metadata": {},
   "outputs": [
    {
     "data": {
      "text/plain": [
       "array([[0., 0., 0., 0., 0., 0., 0.],\n",
       "       [0., 0., 0., 0., 0., 0., 0.],\n",
       "       [0., 0., 0., 0., 0., 0., 0.],\n",
       "       [0., 0., 0., 0., 0., 0., 0.],\n",
       "       [0., 0., 0., 0., 1., 0., 0.],\n",
       "       [0., 0., 0., 0., 0., 0., 0.],\n",
       "       [0., 0., 0., 0., 0., 0., 0.]])"
      ]
     },
     "execution_count": 14,
     "metadata": {},
     "output_type": "execute_result"
    }
   ],
   "source": [
    "(DM_J - DM_I).orbitalDensity()"
   ]
  },
  {
   "cell_type": "code",
   "execution_count": null,
   "metadata": {},
   "outputs": [],
   "source": []
  }
 ],
 "metadata": {
  "kernelspec": {
   "display_name": "Python 3",
   "language": "python",
   "name": "python3"
  },
  "language_info": {
   "codemirror_mode": {
    "name": "ipython",
    "version": 3
   },
   "file_extension": ".py",
   "mimetype": "text/x-python",
   "name": "python",
   "nbconvert_exporter": "python",
   "pygments_lexer": "ipython3",
   "version": "3.7.7"
  }
 },
 "nbformat": 4,
 "nbformat_minor": 4
}
