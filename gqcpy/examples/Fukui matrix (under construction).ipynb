{
 "cells": [
  {
   "cell_type": "code",
   "execution_count": 1,
   "metadata": {},
   "outputs": [],
   "source": [
    "# Force the local gqcpy to be imported\n",
    "import sys\n",
    "sys.path.insert(0, '../../build/gqcpy/')\n",
    "\n",
    "import gqcpy\n",
    "import numpy as np"
   ]
  },
  {
   "cell_type": "markdown",
   "metadata": {},
   "source": [
    "# Preliminary functions\n",
    "Functions that make our life easier, since we will be reusing some code."
   ]
  },
  {
   "cell_type": "code",
   "execution_count": 2,
   "metadata": {},
   "outputs": [],
   "source": [
    "def dimensions(molecule):\n",
    "    \"\"\"\n",
    "    Return the dimensions (N, M) of a molecule in a given basis. Here, N is the number of electrons and M the number of spinors.\n",
    "    \"\"\"\n",
    "    N = molecule.numberOfElectrons()\n",
    "\n",
    "    spin_orbital_basis = gqcpy.USpinOrbitalBasis_d(molecule, \"STO-3G\")\n",
    "    M = spin_orbital_basis.numberOfSpinors()\n",
    "    \n",
    "    return (N, M)"
   ]
  },
  {
   "cell_type": "code",
   "execution_count": 3,
   "metadata": {},
   "outputs": [],
   "source": [
    "def onv_bases(N, K, transition = \"detachment\"):\n",
    "    \"\"\"\n",
    "    Create two ONV bases, based on whether we are describing an electron attachment or detachment.\n",
    "    \"\"\"\n",
    "\n",
    "    N_alpha = N//2 + 1 if N%2 else N//2\n",
    "    N_beta = N//2\n",
    "    \n",
    "    if transition == \"detachment\":\n",
    "        onv_basis_I = gqcpy.SpinResolvedONVBasis(K, N_alpha, N_beta - 1)  # number of spatial orbitals, number of alpha-electrons, number of beta-electrons\n",
    "        onv_basis_J = gqcpy.SpinResolvedONVBasis(K, N_alpha, N_beta)  # number of spatial orbitals, number of alpha-electrons, number of beta-electrons\n",
    "        \n",
    "    elif transition == \"attachment\":\n",
    "        onv_basis_I = gqcpy.SpinResolvedONVBasis(K, N_alpha + 1, N_beta)  # number of spatial orbitals, number of alpha-electrons, number of beta-electrons\n",
    "        onv_basis_J = gqcpy.SpinResolvedONVBasis(K, N_alpha, N_beta)  # number of spatial orbitals, number of alpha-electrons, number of beta-electrons\n",
    "        \n",
    "    else:\n",
    "        print(\"Specify a valid electron transition process: attachment/detachment.\")\n",
    "        return None\n",
    "    \n",
    "    return (onv_basis_I, onv_basis_J)"
   ]
  },
  {
   "cell_type": "code",
   "execution_count": 4,
   "metadata": {},
   "outputs": [],
   "source": [
    "def C_RHF(molecule):\n",
    "    \n",
    "    N = molecule.numberOfElectrons()\n",
    "    N_P = molecule.numberOfElectronPairs()\n",
    "    \n",
    "    spin_orbital_basis = gqcpy.RSpinOrbitalBasis_d(molecule, \"STO-3G\")\n",
    "    K = spin_orbital_basis.numberOfSpatialOrbitals()\n",
    "    #print(\"N: {}\\nN_P: {}\\nK: {}\".format(N, N_P, K))\n",
    "\n",
    "    hamiltonian = gqcpy.RSQHamiltonian.Molecular(spin_orbital_basis, molecule)\n",
    "    S = spin_orbital_basis.quantizeOverlapOperator().parameters()\n",
    "\n",
    "    environment = gqcpy.RHFSCFEnvironment.WithCoreGuess(N, hamiltonian, S)\n",
    "    solver = gqcpy.RHFSCFSolver.Plain()\n",
    "    objective = gqcpy.DiagonalRHFFockMatrixObjective(hamiltonian)  # use the default threshold of 1.0e-08\n",
    "    rhf_parameters = gqcpy.RHF.optimize(objective, solver, environment).groundStateParameters()\n",
    "    \n",
    "    return rhf_parameters.expansion()"
   ]
  },
  {
   "cell_type": "code",
   "execution_count": 5,
   "metadata": {},
   "outputs": [],
   "source": [
    "def C_UHF(molecule):\n",
    "    N = molecule.numberOfElectrons()\n",
    "    N_alpha = N//2 + 1 if N%2 else N//2\n",
    "    N_beta = N//2\n",
    "\n",
    "    spinor_basis = gqcpy.RSpinOrbitalBasis_d(molecule, \"STO-3G\")\n",
    "    K = spinor_basis.numberOfSpatialOrbitals()\n",
    "    #print(\"N_alpha: {}\\nN_beta: {}\\nK: {}\".format(N_alpha, N_beta, K))\n",
    "    \n",
    "    hamiltonian = gqcpy.RSQHamiltonian.Molecular(spinor_basis, molecule) \n",
    "    S = spinor_basis.quantizeOverlapOperator().parameters()\n",
    "    \n",
    "    environment = gqcpy.UHFSCFEnvironment.WithCoreGuess(N_alpha, N_beta, hamiltonian, S)\n",
    "    solver = gqcpy.UHFSCFSolver.Plain()\n",
    "    uhf_parameters = gqcpy.UHF.optimize(solver, environment).groundStateParameters()\n",
    "    return uhf_parameters.expansion()"
   ]
  },
  {
   "cell_type": "code",
   "execution_count": 6,
   "metadata": {},
   "outputs": [],
   "source": [
    "def TM(C_ion, C_neutral):\n",
    "    return C_ion.inverse().transformed(C_neutral)"
   ]
  },
  {
   "cell_type": "markdown",
   "metadata": {},
   "source": [
    "# Preparation of some variables\n",
    "Generate the neutral molecule with N electrons, a positive ion with N-1 electrons (charge +1) and a negative ion with N+1 electrons (charge -1)."
   ]
  },
  {
   "cell_type": "code",
   "execution_count": 7,
   "metadata": {},
   "outputs": [
    {
     "name": "stdout",
     "output_type": "stream",
     "text": [
      "Neutral molecule:\n",
      "Number of electrons: 10 \n",
      "O  (0, -0.143226, 0)\n",
      "H  (1.63804, 1.13655, -0)\n",
      "H  (-1.63804, 1.13655, -0)\n",
      "\n",
      "\n",
      "Positive ion:\n",
      "Number of electrons: 9 \n",
      "O  (0, -0.143226, 0)\n",
      "H  (1.63804, 1.13655, -0)\n",
      "H  (-1.63804, 1.13655, -0)\n",
      "\n",
      "\n",
      "Negative ion:\n",
      "Number of electrons: 11 \n",
      "O  (0, -0.143226, 0)\n",
      "H  (1.63804, 1.13655, -0)\n",
      "H  (-1.63804, 1.13655, -0)\n",
      "\n"
     ]
    }
   ],
   "source": [
    "#neutral_molecule = gqcpy.Molecule.ReadXYZ(\"../../gqcp/tests/data/h2.xyz\" , 0)  # create a neutral molecule with N electrons\n",
    "#positive_ion = gqcpy.Molecule.ReadXYZ(\"../../gqcp/tests/data/h2.xyz\" , +1)  # create a an ion N-1 electrons\n",
    "#negative_ion = gqcpy.Molecule.ReadXYZ(\"../../gqcp/tests/data/h2.xyz\" , -1)  # create a an ion with N+1 electrons\n",
    "\n",
    "neutral_molecule = gqcpy.Molecule.ReadXYZ(\"../../gqcp/tests/data/h2o_crawdad.xyz\" , 0)  # create a neutral molecule with N electrons\n",
    "positive_ion = gqcpy.Molecule.ReadXYZ(\"../../gqcp/tests/data/h2o_crawdad.xyz\" , +1)  # create a an ion N-1 electrons\n",
    "negative_ion = gqcpy.Molecule.ReadXYZ(\"../../gqcp/tests/data/h2o_crawdad.xyz\" , -1)  # create a an ion with N+1 electrons\n",
    "\n",
    "print(\"Neutral molecule:\")\n",
    "print(neutral_molecule)\n",
    "print(\"\\nPositive ion:\")\n",
    "print(positive_ion)\n",
    "print(\"\\nNegative ion:\")\n",
    "print(negative_ion)"
   ]
  },
  {
   "cell_type": "code",
   "execution_count": 8,
   "metadata": {},
   "outputs": [],
   "source": [
    "N, M = dimensions(neutral_molecule)\n",
    "K = M//2 # number of spinors per spin compound\n",
    "\n",
    "onv_basis_I, onv_basis_J = onv_bases(N, K, \"detachment\")"
   ]
  },
  {
   "cell_type": "markdown",
   "metadata": {},
   "source": [
    "# Fukui matrix in the uncorrelated limit"
   ]
  },
  {
   "cell_type": "code",
   "execution_count": 9,
   "metadata": {},
   "outputs": [],
   "source": [
    "C_neutral = C_UHF(neutral_molecule)\n",
    "C_ion = C_UHF(positive_ion)"
   ]
  },
  {
   "cell_type": "code",
   "execution_count": 10,
   "metadata": {},
   "outputs": [],
   "source": [
    "U = TM(C_ion, C_neutral)"
   ]
  },
  {
   "cell_type": "code",
   "execution_count": 11,
   "metadata": {},
   "outputs": [
    {
     "name": "stdout",
     "output_type": "stream",
     "text": [
      "Is C_ion unitary?  False\n",
      "Is C_neutral unitary?  False\n",
      "Is U unitary?  True\n"
     ]
    }
   ],
   "source": [
    "print(\"Is C_ion unitary? \", C_ion.isUnitary())\n",
    "print(\"Is C_neutral unitary? \", C_neutral.isUnitary())\n",
    "print(\"Is U unitary? \", U.isUnitary())"
   ]
  },
  {
   "cell_type": "code",
   "execution_count": 12,
   "metadata": {},
   "outputs": [],
   "source": [
    "Psi_I = gqcpy.LinearExpansion_SpinResolved.HartreeFock(onv_basis_I)\n",
    "#Psi_I.coefficients()\n",
    "Psi_J = gqcpy.LinearExpansion_SpinResolved.HartreeFock(onv_basis_J)\n",
    "#Psi_J.coefficients()"
   ]
  },
  {
   "cell_type": "code",
   "execution_count": 13,
   "metadata": {},
   "outputs": [],
   "source": [
    "DM_I = Psi_I.calculateSpinResolved1DM()\n",
    "DM_J = Psi_J.calculateSpinResolved1DM()"
   ]
  },
  {
   "cell_type": "code",
   "execution_count": 14,
   "metadata": {},
   "outputs": [
    {
     "data": {
      "text/plain": [
       "array([[-0.001, -0.   ,  1.   , -0.023, -0.   , -0.002,  0.   ],\n",
       "       [-0.23 , -0.   ,  0.021,  0.933, -0.   , -0.275,  0.   ],\n",
       "       [ 0.   , -0.653,  0.   , -0.   , -0.758,  0.   ,  0.   ],\n",
       "       [ 0.607,  0.   ,  0.01 ,  0.358,  0.   ,  0.709,  0.   ],\n",
       "       [ 0.   , -0.   , -0.   , -0.   , -0.   ,  0.   , -1.   ],\n",
       "       [ 0.761,  0.   ,  0.   , -0.004, -0.   , -0.649,  0.   ],\n",
       "       [-0.   ,  0.758,  0.   ,  0.   , -0.653,  0.   ,  0.   ]])"
      ]
     },
     "execution_count": 14,
     "metadata": {},
     "output_type": "execute_result"
    }
   ],
   "source": [
    "DM_I = DM_I.transformed(U)\n",
    "\n",
    "fukui_matrix_neg = (DM_J - DM_I).orbitalDensity()\n",
    "fukui_eigenvalues, fukui_naturals = np.linalg.eigh(fukui_matrix_neg)\n",
    "np.round(fukui_naturals,3)"
   ]
  },
  {
   "cell_type": "code",
   "execution_count": 15,
   "metadata": {},
   "outputs": [
    {
     "data": {
      "text/plain": [
       "array([-2.98678643e-01, -2.74420688e-01, -6.65719147e-16,  7.44488336e-04,\n",
       "        2.74420688e-01,  2.97934154e-01,  1.00000000e+00])"
      ]
     },
     "execution_count": 15,
     "metadata": {},
     "output_type": "execute_result"
    }
   ],
   "source": [
    "fukui_eigenvalues"
   ]
  },
  {
   "cell_type": "code",
   "execution_count": null,
   "metadata": {},
   "outputs": [],
   "source": []
  }
 ],
 "metadata": {
  "kernelspec": {
   "display_name": "Python 3",
   "language": "python",
   "name": "python3"
  },
  "language_info": {
   "codemirror_mode": {
    "name": "ipython",
    "version": 3
   },
   "file_extension": ".py",
   "mimetype": "text/x-python",
   "name": "python",
   "nbconvert_exporter": "python",
   "pygments_lexer": "ipython3",
   "version": "3.7.7"
  }
 },
 "nbformat": 4,
 "nbformat_minor": 4
}
