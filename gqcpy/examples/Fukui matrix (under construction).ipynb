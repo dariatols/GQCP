{
 "cells": [
  {
   "cell_type": "code",
   "execution_count": 1,
   "metadata": {},
   "outputs": [],
   "source": [
    "# Force the local gqcpy to be imported\n",
    "import sys\n",
    "sys.path.insert(0, '../../build/gqcpy/')\n",
    "\n",
    "import gqcpy\n",
    "import numpy as np"
   ]
  },
  {
   "cell_type": "markdown",
   "metadata": {},
   "source": [
    "# Preliminary functions\n",
    "Functions that make our life easier, since we will be reusing some code."
   ]
  },
  {
   "cell_type": "code",
   "execution_count": 2,
   "metadata": {},
   "outputs": [],
   "source": [
    "def dimensions(molecule):\n",
    "    \"\"\"\n",
    "    Return the dimensions (N, M) of a molecule in a given basis. Here, N is the number of electrons and M the number of spinors.\n",
    "    \"\"\"\n",
    "    N = molecule.numberOfElectrons()\n",
    "\n",
    "    spin_orbital_basis = gqcpy.USpinOrbitalBasis_d(molecule, \"STO-3G\")\n",
    "    M = spin_orbital_basis.numberOfSpinors()\n",
    "    \n",
    "    return (N, M)"
   ]
  },
  {
   "cell_type": "code",
   "execution_count": 3,
   "metadata": {},
   "outputs": [],
   "source": [
    "def onv_bases(N, K):\n",
    "    \"\"\"\n",
    "    Create three ONV bases: I for the (N-1) electron system, J for the N-electron system and K for the (N+1)-electron system.\n",
    "    \"\"\"\n",
    "\n",
    "    N_alpha = N//2 + 1 if N%2 else N//2\n",
    "    N_beta = N//2\n",
    "    \n",
    "    onv_basis_I = gqcpy.SpinResolvedONVBasis(K, N_alpha, N_beta - 1)  # number of spatial orbitals, number of alpha-electrons, number of beta-electrons\n",
    "    onv_basis_J = gqcpy.SpinResolvedONVBasis(K, N_alpha, N_beta)  # number of spatial orbitals, number of alpha-electrons, number of beta-electrons\n",
    "    onv_basis_K = gqcpy.SpinResolvedONVBasis(K, N_alpha + 1, N_beta)  # number of spatial orbitals, number of alpha-electrons, number of beta-electrons\n",
    "\n",
    "    return (onv_basis_I, onv_basis_J, onv_basis_K)"
   ]
  },
  {
   "cell_type": "code",
   "execution_count": 4,
   "metadata": {},
   "outputs": [],
   "source": [
    "def C_RHF(molecule):\n",
    "    \"\"\"\n",
    "    Generate restricted spinors, defined as the expansion coefficients in the scalar AO basis, from a restricted\n",
    "    Hartree-Fock calculation.\n",
    "    \"\"\"\n",
    "    N = molecule.numberOfElectrons()\n",
    "    N_P = molecule.numberOfElectronPairs()\n",
    "    \n",
    "    spin_orbital_basis = gqcpy.RSpinOrbitalBasis_d(molecule, \"STO-3G\")\n",
    "    K = spin_orbital_basis.numberOfSpatialOrbitals()\n",
    "    #print(\"N: {}\\nN_P: {}\\nK: {}\".format(N, N_P, K))\n",
    "\n",
    "    hamiltonian = gqcpy.RSQHamiltonian.Molecular(spin_orbital_basis, molecule)\n",
    "    S = spin_orbital_basis.quantizeOverlapOperator().parameters()\n",
    "\n",
    "    environment = gqcpy.RHFSCFEnvironment.WithCoreGuess(N, hamiltonian, S)\n",
    "    solver = gqcpy.RHFSCFSolver.Plain()\n",
    "    objective = gqcpy.DiagonalRHFFockMatrixObjective(hamiltonian)  # use the default threshold of 1.0e-08\n",
    "    rhf_parameters = gqcpy.RHF.optimize(objective, solver, environment).groundStateParameters()\n",
    "    \n",
    "    return rhf_parameters.expansion()"
   ]
  },
  {
   "cell_type": "code",
   "execution_count": 5,
   "metadata": {},
   "outputs": [],
   "source": [
    "def C_UHF(molecule):\n",
    "    \"\"\"\n",
    "    Generate unrestricted spin-orbitals, for each spin component defined as the expansion coefficients \n",
    "    in the scalar AO basis, from an unrestricted Hartree-Fock calculation.\n",
    "    \"\"\"\n",
    "    N = molecule.numberOfElectrons()\n",
    "    N_alpha = N//2 + 1 if N%2 else N//2\n",
    "    N_beta = N//2\n",
    "\n",
    "    spinor_basis = gqcpy.RSpinOrbitalBasis_d(molecule, \"STO-3G\")\n",
    "    K = spinor_basis.numberOfSpatialOrbitals()\n",
    "    #print(\"N_alpha: {}\\nN_beta: {}\\nK: {}\".format(N_alpha, N_beta, K))\n",
    "    \n",
    "    hamiltonian = gqcpy.RSQHamiltonian.Molecular(spinor_basis, molecule) \n",
    "    S = spinor_basis.quantizeOverlapOperator().parameters()\n",
    "    \n",
    "    environment = gqcpy.UHFSCFEnvironment.WithCoreGuess(N_alpha, N_beta, hamiltonian, S)\n",
    "    solver = gqcpy.UHFSCFSolver.Plain()\n",
    "    uhf_parameters = gqcpy.UHF.optimize(solver, environment).groundStateParameters()\n",
    "    return uhf_parameters.expansion()"
   ]
  },
  {
   "cell_type": "code",
   "execution_count": 6,
   "metadata": {},
   "outputs": [],
   "source": [
    "def TM(C_ion, C_neutral):\n",
    "    \"\"\"\n",
    "    Return a transformation matrix that expresses a neutral spinor/spin-orbital in terms of the ones of the ionized molecule.\n",
    "    \"\"\"\n",
    "    return C_ion.inverse().transformed(C_neutral)"
   ]
  },
  {
   "cell_type": "code",
   "execution_count": 7,
   "metadata": {},
   "outputs": [],
   "source": [
    "def uFCI(molecule, onv_basis):\n",
    "    \"\"\"\n",
    "    FCI calculations for an unrestricted spin-orbital basis.\n",
    "    \"\"\"\n",
    "    spin_orbital_basis = gqcpy.USpinOrbitalBasis_d(molecule, \"STO-3G\") # the underlying scalar AO basis is not orthonormal\n",
    "    spin_orbital_basis.lowdinOrthonormalize() # after using Löwdin's orthonormalizing procedure, the spin orbital basis is now orthonormal\n",
    "    \n",
    "    hamiltonian = gqcpy.USQHamiltonian.Molecular(spin_orbital_basis, molecule)\n",
    "    \n",
    "    solver = gqcpy.EigenproblemSolver.Dense()\n",
    "    environment = gqcpy.CIEnvironment.Dense(hamiltonian, onv_basis)\n",
    "\n",
    "    ci_parameters = gqcpy.CI(onv_basis).optimize(solver, environment).groundStateParameters()\n",
    "    \n",
    "    return ci_parameters"
   ]
  },
  {
   "cell_type": "markdown",
   "metadata": {},
   "source": [
    "# Molecular set-up\n",
    "\n",
    "Generate the neutral molecule with N electrons, a positive ion with N-1 electrons (charge +1) and a negative ion with N+1 electrons (charge -1)."
   ]
  },
  {
   "cell_type": "code",
   "execution_count": 8,
   "metadata": {},
   "outputs": [],
   "source": [
    "#neutral_molecule = gqcpy.Molecule.ReadXYZ(\"../../gqcp/tests/data/h2.xyz\" , 0)  # create a neutral molecule with N electrons\n",
    "#positive_ion = gqcpy.Molecule.ReadXYZ(\"../../gqcp/tests/data/h2.xyz\" , +1)  # create a an ion N-1 electrons\n",
    "#negative_ion = gqcpy.Molecule.ReadXYZ(\"../../gqcp/tests/data/h2.xyz\" , -1)  # create a an ion with N+1 electrons\n",
    "\n",
    "neutral_molecule = gqcpy.Molecule.ReadXYZ(\"../../gqcp/tests/data/h2o_crawdad.xyz\" , 0)  # create a neutral molecule with N electrons\n",
    "positive_ion = gqcpy.Molecule.ReadXYZ(\"../../gqcp/tests/data/h2o_crawdad.xyz\" , +1)  # create a an ion N-1 electrons\n",
    "negative_ion = gqcpy.Molecule.ReadXYZ(\"../../gqcp/tests/data/h2o_crawdad.xyz\" , -1)  # create a an ion with N+1 electrons"
   ]
  },
  {
   "cell_type": "code",
   "execution_count": 9,
   "metadata": {},
   "outputs": [],
   "source": [
    "N, M = dimensions(neutral_molecule)\n",
    "K = M//2 # number of spinors per spin compound\n",
    "\n",
    "onv_basis_I, onv_basis_J, onv_basis_K = onv_bases(N, K)"
   ]
  },
  {
   "cell_type": "markdown",
   "metadata": {},
   "source": [
    "# Fukui matrix in the uncorrelated limit"
   ]
  },
  {
   "cell_type": "markdown",
   "metadata": {},
   "source": [
    "To generate the transformation matrix [$\\mathbf{U}^\\pm$](https://gqcg-res.github.io/dariatols_knowdes/fukui-matrix.html), we must combine the coefficient matrix of the neutral molecule and the ion. More details on the transformation of the density matrix is found in the link."
   ]
  },
  {
   "cell_type": "code",
   "execution_count": 10,
   "metadata": {},
   "outputs": [],
   "source": [
    "C_neutral = C_UHF(neutral_molecule)\n",
    "C_pos = C_UHF(positive_ion)\n",
    "C_neg = C_UHF(negative_ion)\n",
    "\n",
    "U_pos = TM(C_pos, C_neutral)\n",
    "U_neg = TM(C_neg, C_neutral)"
   ]
  },
  {
   "cell_type": "markdown",
   "metadata": {},
   "source": [
    "Because unitary transformations preserve the inner product, only $\\mathbf{U}$ should be a unitary matrix. "
   ]
  },
  {
   "cell_type": "code",
   "execution_count": 11,
   "metadata": {},
   "outputs": [
    {
     "name": "stdout",
     "output_type": "stream",
     "text": [
      "Is C_pos / C_neg unitary? False / False\n",
      "Is C_neutral unitary?  False\n",
      "Is U_pos / U_neg unitary? True / True\n"
     ]
    }
   ],
   "source": [
    "print(\"Is C_pos / C_neg unitary? {} / {}\".format(C_pos.isUnitary(), C_neg.isUnitary()))\n",
    "print(\"Is C_neutral unitary? \", C_neutral.isUnitary())\n",
    "print(\"Is U_pos / U_neg unitary? {} / {}\".format(U_pos.isUnitary(), U_neg.isUnitary()))"
   ]
  },
  {
   "cell_type": "markdown",
   "metadata": {},
   "source": [
    "Build the linear expansion for a CI wave function in the Hartree-Fock formalism, where all coefficients of a given ONV basis are zero except for the HF determinant."
   ]
  },
  {
   "cell_type": "code",
   "execution_count": 17,
   "metadata": {},
   "outputs": [
    {
     "name": "stdout",
     "output_type": "stream",
     "text": [
      "ONV basis dimensions:\n",
      "---------------------\n",
      "N-1:\t735\n",
      "N:\t441\n",
      "N+1:\t147\n"
     ]
    }
   ],
   "source": [
    "Psi_I = gqcpy.LinearExpansion_SpinResolved.HartreeFock(onv_basis_I)\n",
    "#print(Psi_I.coefficients())\n",
    "Psi_J = gqcpy.LinearExpansion_SpinResolved.HartreeFock(onv_basis_J)\n",
    "#print(Psi_J.coefficients())\n",
    "Psi_K = gqcpy.LinearExpansion_SpinResolved.HartreeFock(onv_basis_K)\n",
    "#print(Psi_K.coefficients())\n",
    "\n",
    "print(\"ONV basis dimensions:\\n---------------------\\nN-1:\\t{}\\nN:\\t{}\\nN+1:\\t{}\".format(\n",
    "        len(Psi_I.coefficients()), len(Psi_J.coefficients()), len(Psi_K.coefficients())))"
   ]
  },
  {
   "cell_type": "markdown",
   "metadata": {},
   "source": [
    "To calculate the Fukui matrix, we will need the difference of two density matrices, expressed in the same spin-orbital basis. Therefore, we must transform the density matrix of the ionary species. The density matrix of the neutral species `DM_J` is already in terms of its own spin-orbitals and must therefore not be transformed."
   ]
  },
  {
   "cell_type": "code",
   "execution_count": 18,
   "metadata": {},
   "outputs": [],
   "source": [
    "DM_I = Psi_I.calculateSpinResolved1DM()\n",
    "DM_J = Psi_J.calculateSpinResolved1DM()\n",
    "DM_K = Psi_K.calculateSpinResolved1DM()\n",
    "\n",
    "DM_I = DM_I.transformed(U_pos)\n",
    "DM_K = DM_K.transformed(U_neg)"
   ]
  },
  {
   "cell_type": "markdown",
   "metadata": {},
   "source": [
    "Due to the discontinuity in the energy versus the number of electrons, one must define an upper and lower limit of the Fukui function and accordingly split the Fukui matrix into a positive and negative component. Here, `FM_pos` is $F^+_{pq}$ and `FM_neg` is $F^-_{pq}$."
   ]
  },
  {
   "cell_type": "code",
   "execution_count": 27,
   "metadata": {},
   "outputs": [],
   "source": [
    "FM_pos = DM_K - DM_J\n",
    "FM_neg = DM_J - DM_I"
   ]
  },
  {
   "cell_type": "markdown",
   "metadata": {},
   "source": [
    "To assess the quality of the algebraic manipulations ([Bultinck2011](https://pubs.rsc.org/en/content/articlelanding/2011/CP/c0cp02268c#!divAbstract)), we must check the effect of adding or removing an electron on the Fukui matrix. To obtain the $(N+1)$-electron system, we have added an $\\alpha$-electron to its spin-orbitals. This means that the $\\alpha$ part of $\\mathbf{F}^+$ will incorporate an additional electron, which must be reflected in the trace of the Fukui matrix. "
   ]
  },
  {
   "cell_type": "code",
   "execution_count": 32,
   "metadata": {},
   "outputs": [
    {
     "data": {
      "text/plain": [
       "1.0000000000000069"
      ]
     },
     "execution_count": 32,
     "metadata": {},
     "output_type": "execute_result"
    }
   ],
   "source": [
    "np.trace(FM_pos.alpha)"
   ]
  },
  {
   "cell_type": "markdown",
   "metadata": {},
   "source": [
    "Additionally, since `Psi_J` and `Psi_K` both have the same number of $\\beta$-electrons, the trace of $\\mathbf{F}^{+,\\beta}$ should be zero."
   ]
  },
  {
   "cell_type": "code",
   "execution_count": 33,
   "metadata": {},
   "outputs": [
    {
     "data": {
      "text/plain": [
       "2.427616755621559e-15"
      ]
     },
     "execution_count": 33,
     "metadata": {},
     "output_type": "execute_result"
    }
   ],
   "source": [
    "np.trace(FM_pos.beta)"
   ]
  },
  {
   "cell_type": "markdown",
   "metadata": {},
   "source": [
    "We can work analogously for $\\mathbf{F}^-$: `Psi_I` has one less $\\beta$ electron than `Psi_J` and consequently, the trace of $F^{-,\\beta}$ should be 1"
   ]
  },
  {
   "cell_type": "code",
   "execution_count": 34,
   "metadata": {},
   "outputs": [
    {
     "data": {
      "text/plain": [
       "0.9999999999999963"
      ]
     },
     "execution_count": 34,
     "metadata": {},
     "output_type": "execute_result"
    }
   ],
   "source": [
    "np.trace(FM_neg.beta)"
   ]
  },
  {
   "cell_type": "markdown",
   "metadata": {},
   "source": [
    "whereas the trace of $F^{-,\\alpha}$ should be zero now."
   ]
  },
  {
   "cell_type": "code",
   "execution_count": 35,
   "metadata": {},
   "outputs": [
    {
     "data": {
      "text/plain": [
       "-2.5431046157819992e-15"
      ]
     },
     "execution_count": 35,
     "metadata": {},
     "output_type": "execute_result"
    }
   ],
   "source": [
    "np.trace(FM_neg.alpha)"
   ]
  },
  {
   "cell_type": "code",
   "execution_count": 20,
   "metadata": {},
   "outputs": [],
   "source": [
    "#F_eigenvalues, F_naturals = np.linalg.eigh(FM_neg.orbitalDensity())\n",
    "\n",
    "#print(fukui_eigenvalues)"
   ]
  },
  {
   "cell_type": "code",
   "execution_count": 26,
   "metadata": {},
   "outputs": [
    {
     "data": {
      "text/plain": [
       "0.9999999999999963"
      ]
     },
     "execution_count": 26,
     "metadata": {},
     "output_type": "execute_result"
    }
   ],
   "source": [
    "np.trace(FM_neg.beta)"
   ]
  },
  {
   "cell_type": "markdown",
   "metadata": {},
   "source": [
    "### $F^{+}$"
   ]
  },
  {
   "cell_type": "markdown",
   "metadata": {},
   "source": [
    "First, we will diagonalize $F^{+,\\alpha}$ which has trace 1. According to [Bultinck2011](https://pubs.rsc.org/en/content/articlelanding/2011/CP/c0cp02268c#!divAbstract), the Frontier Molecular Orbital (FMO) approximation is perfect if a single eigenvalue equal to 1 appears. Its corresponding Fukui natural should be solely composed of the FMO of the neutral compound. In our case, we have an eigenvalue of 1, with a corresponding Fukui natural that is exclusively constructed of the FMO of the neutral molecule. Other eigenvalues come in pairs, as described in the article."
   ]
  },
  {
   "cell_type": "code",
   "execution_count": 85,
   "metadata": {},
   "outputs": [
    {
     "name": "stdout",
     "output_type": "stream",
     "text": [
      "[-1.32857404e-01  3.74797419e-16  4.33659659e-16  1.39988019e-15\n",
      "  1.63580995e-15  1.32857404e-01  1.00000000e+00]\n",
      "\n",
      "\n",
      "\n",
      "[[-0.    -0.997 -0.008 -0.062  0.054  0.    -0.   ]\n",
      " [ 0.     0.063 -0.    -0.998  0.009 -0.     0.   ]\n",
      " [-0.753 -0.     0.     0.    -0.    -0.658 -0.   ]\n",
      " [-0.     0.054 -0.005  0.012  0.998  0.     0.   ]\n",
      " [-0.    -0.007  1.    -0.001  0.006  0.    -0.   ]\n",
      " [-0.     0.    -0.    -0.     0.     0.    -1.   ]\n",
      " [ 0.658 -0.     0.     0.     0.    -0.753 -0.   ]]\n"
     ]
    }
   ],
   "source": [
    "F_pos_eigenvalues, F_pos_naturals = np.linalg.eigh(FM_pos.alpha)\n",
    "\n",
    "print(F_pos_eigenvalues)\n",
    "print(\"\\n\\n\")\n",
    "print(np.round(F_pos_naturals, 3))"
   ]
  },
  {
   "cell_type": "markdown",
   "metadata": {},
   "source": [
    "Diagonalizing $F^{+,\\beta}$ results in eigenvalues that either come in pairs, or are zero."
   ]
  },
  {
   "cell_type": "code",
   "execution_count": 87,
   "metadata": {},
   "outputs": [
    {
     "name": "stdout",
     "output_type": "stream",
     "text": [
      "[-8.47147881e-02 -5.32910853e-03 -6.54570832e-16  4.65957588e-20\n",
      "  1.33891934e-15  5.32910853e-03  8.47147881e-02]\n",
      "\n",
      "\n",
      "\n",
      "[[-0.005  0.     1.    -0.     0.019 -0.    -0.004]\n",
      " [ 0.551 -0.     0.017  0.    -0.664 -0.     0.506]\n",
      " [ 0.    -0.709 -0.     0.     0.    -0.705  0.   ]\n",
      " [-0.489 -0.     0.01   0.    -0.748 -0.    -0.449]\n",
      " [ 0.    -0.    -0.    -1.    -0.    -0.    -0.   ]\n",
      " [-0.676  0.     0.    -0.     0.    -0.     0.736]\n",
      " [-0.    -0.705  0.     0.     0.     0.709  0.   ]]\n"
     ]
    }
   ],
   "source": [
    "F_pos_eigenvalues, F_pos_naturals = np.linalg.eigh(FM_pos.beta)\n",
    "\n",
    "print(F_pos_eigenvalues)\n",
    "print(\"\\n\\n\")\n",
    "print(np.round(F_pos_naturals, 3))"
   ]
  },
  {
   "cell_type": "markdown",
   "metadata": {},
   "source": [
    "### $F^{-}$"
   ]
  },
  {
   "cell_type": "markdown",
   "metadata": {},
   "source": [
    "Similar to $F^{+}$, we can both diagonalize the $\\alpha$ and $\\beta$ part of $F^{-}$. $F^{-,\\beta}$ with trace 1 will have a Fukui eigenvalue of 1, with a corresponding Fukui natural consisting of the FMO."
   ]
  },
  {
   "cell_type": "code",
   "execution_count": 88,
   "metadata": {},
   "outputs": [
    {
     "name": "stdout",
     "output_type": "stream",
     "text": [
      "[-1.18219603e-01 -9.83592966e-02 -8.47515873e-16 -2.93218051e-16\n",
      "  9.83592966e-02  1.18219603e-01  1.00000000e+00]\n",
      "\n",
      "\n",
      "\n",
      "[[-0.004  0.     0.089 -0.996  0.     0.004  0.   ]\n",
      " [-0.134  0.    -0.976 -0.086  0.     0.151 -0.   ]\n",
      " [ 0.     0.671  0.     0.     0.741 -0.     0.   ]\n",
      " [ 0.65  -0.    -0.2   -0.024 -0.    -0.732 -0.   ]\n",
      " [-0.     0.     0.    -0.     0.    -0.    -1.   ]\n",
      " [ 0.748 -0.     0.     0.     0.     0.664 -0.   ]\n",
      " [-0.    -0.741 -0.    -0.     0.671 -0.     0.   ]]\n"
     ]
    }
   ],
   "source": [
    "F_neg_eigenvalues, F_neg_naturals = np.linalg.eigh(FM_neg.beta)\n",
    "\n",
    "print(F_neg_eigenvalues)\n",
    "print(\"\\n\\n\")\n",
    "print(np.round(F_neg_naturals, 3))"
   ]
  },
  {
   "cell_type": "code",
   "execution_count": 89,
   "metadata": {},
   "outputs": [
    {
     "name": "stdout",
     "output_type": "stream",
     "text": [
      "[-1.82838831e-01 -1.76256683e-01 -7.39123799e-16 -3.85004198e-16\n",
      "  2.71846167e-20  1.76256683e-01  1.82838831e-01]\n",
      "\n",
      "\n",
      "\n",
      "[[ 0.     0.    -0.052 -0.999 -0.    -0.    -0.   ]\n",
      " [-0.291 -0.     0.889 -0.046 -0.005  0.     0.35 ]\n",
      " [ 0.    -0.642 -0.     0.     0.     0.767 -0.   ]\n",
      " [ 0.569  0.     0.454 -0.023 -0.003 -0.    -0.685]\n",
      " [ 0.    -0.    -0.006  0.001 -1.     0.    -0.   ]\n",
      " [ 0.769  0.    -0.     0.     0.     0.     0.639]\n",
      " [-0.     0.767  0.    -0.     0.     0.642 -0.   ]]\n"
     ]
    }
   ],
   "source": [
    "F_neg_eigenvalues, F_neg_naturals = np.linalg.eigh(FM_neg.alpha)\n",
    "\n",
    "print(F_neg_eigenvalues)\n",
    "print(\"\\n\\n\")\n",
    "print(np.round(F_neg_naturals, 3))"
   ]
  },
  {
   "cell_type": "markdown",
   "metadata": {},
   "source": [
    "# Fukui matrix when correlation is present"
   ]
  },
  {
   "cell_type": "code",
   "execution_count": 17,
   "metadata": {},
   "outputs": [],
   "source": [
    "Psi_I = uFCI(positive_ion, onv_basis_I)\n",
    "#print(Psi_I.coefficients())\n",
    "Psi_J = uFCI(neutral_molecule, onv_basis_J)\n",
    "#print(Psi_J.coefficients())"
   ]
  },
  {
   "cell_type": "code",
   "execution_count": 18,
   "metadata": {},
   "outputs": [],
   "source": [
    "DM_I = Psi_I.calculateSpinResolved1DM()\n",
    "DM_J = Psi_J.calculateSpinResolved1DM()"
   ]
  },
  {
   "cell_type": "code",
   "execution_count": 19,
   "metadata": {},
   "outputs": [
    {
     "data": {
      "text/plain": [
       "array([[-1.14294316e-04, -1.42345253e-03, -1.18669477e-03,\n",
       "         7.00084051e-02,  1.59070327e-02, -7.89767262e-02,\n",
       "        -3.79127022e-02],\n",
       "       [-1.42345253e-03,  3.79812936e-02, -4.34359557e-03,\n",
       "        -5.90144899e-01, -1.57454367e-01,  7.30396934e-01,\n",
       "         3.32711417e-01],\n",
       "       [-1.18669477e-03, -4.34359557e-03, -5.18485116e-02,\n",
       "         3.97693239e-02, -4.48641316e-02,  6.92625898e-01,\n",
       "         3.71937673e-02],\n",
       "       [ 7.00084051e-02, -5.90144899e-01,  3.97693239e-02,\n",
       "        -3.57620125e-01,  3.89425290e-02,  1.76182538e-01,\n",
       "         8.45921117e-01],\n",
       "       [ 1.59070327e-02, -1.57454367e-01, -4.48641316e-02,\n",
       "         3.89425290e-02,  1.19461790e+00, -2.39134700e-01,\n",
       "        -2.50553617e-01],\n",
       "       [-7.89767262e-02,  7.30396934e-01,  6.92625898e-01,\n",
       "         1.76182538e-01, -2.39134700e-01,  1.19907183e-01,\n",
       "         1.68609784e-02],\n",
       "       [-3.79127022e-02,  3.32711417e-01,  3.71937673e-02,\n",
       "         8.45921117e-01, -2.50553617e-01,  1.68609784e-02,\n",
       "         5.70765549e-02]])"
      ]
     },
     "execution_count": 19,
     "metadata": {},
     "output_type": "execute_result"
    }
   ],
   "source": [
    "DM_I = DM_I.transformed(U)\n",
    "\n",
    "fukui_matrix_neg = (DM_J - DM_I).orbitalDensity()\n",
    "fukui_matrix_neg"
   ]
  },
  {
   "cell_type": "code",
   "execution_count": 20,
   "metadata": {},
   "outputs": [
    {
     "name": "stdout",
     "output_type": "stream",
     "text": [
      "[[ 0.057  0.01   0.994  0.061  0.013  0.051  0.036]\n",
      " [-0.495 -0.136  0.106 -0.624 -0.099 -0.456 -0.344]\n",
      " [-0.163 -0.629  0.001  0.603  0.223 -0.339 -0.223]\n",
      " [-0.627  0.367  0.003  0.132  0.613  0.279 -0.03 ]\n",
      " [ 0.05  -0.005 -0.001 -0.134  0.357 -0.521  0.762]\n",
      " [ 0.36   0.582  0.003  0.178  0.196 -0.52  -0.437]\n",
      " [ 0.448 -0.335 -0.008 -0.42   0.631  0.233 -0.242]]\n",
      "[-1.52805182e+00 -6.97471559e-01  5.12927886e-05  1.49626364e-01\n",
      "  7.02979684e-01  8.78279811e-01  1.49458623e+00]\n"
     ]
    }
   ],
   "source": [
    "fukui_eigenvalues, fukui_naturals = np.linalg.eigh(fukui_matrix_neg)\n",
    "print(np.round(fukui_naturals,3))\n",
    "print(fukui_eigenvalues)"
   ]
  },
  {
   "cell_type": "code",
   "execution_count": null,
   "metadata": {},
   "outputs": [],
   "source": []
  }
 ],
 "metadata": {
  "kernelspec": {
   "display_name": "Python 3",
   "language": "python",
   "name": "python3"
  },
  "language_info": {
   "codemirror_mode": {
    "name": "ipython",
    "version": 3
   },
   "file_extension": ".py",
   "mimetype": "text/x-python",
   "name": "python",
   "nbconvert_exporter": "python",
   "pygments_lexer": "ipython3",
   "version": "3.7.7"
  }
 },
 "nbformat": 4,
 "nbformat_minor": 4
}
