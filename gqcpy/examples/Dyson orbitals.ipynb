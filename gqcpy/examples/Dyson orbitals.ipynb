{
 "cells": [
  {
   "cell_type": "code",
   "execution_count": 1,
   "metadata": {},
   "outputs": [],
   "source": [
    "# Force the local gqcpy to be imported\n",
    "import sys\n",
    "sys.path.insert(0, '../../build/gqcpy/')\n",
    "\n",
    "import gqcpy\n",
    "import numpy as np"
   ]
  },
  {
   "cell_type": "markdown",
   "metadata": {},
   "source": [
    "# Preliminary functions\n",
    "Functions that make our life easier, since we will be reusing some code."
   ]
  },
  {
   "cell_type": "code",
   "execution_count": 2,
   "metadata": {},
   "outputs": [],
   "source": [
    "def dimensions(molecule):\n",
    "    \"\"\"\n",
    "    Return the dimensions (N, M) of a molecule in a given basis. Here, N is the number of electrons and M the number of spinors.\n",
    "    \"\"\"\n",
    "    N = molecule.numberOfElectrons()\n",
    "\n",
    "    spin_orbital_basis = gqcpy.USpinOrbitalBasis_d(molecule, \"STO-3G\")\n",
    "    M = spin_orbital_basis.numberOfSpinors()\n",
    "    \n",
    "    return (N, M)"
   ]
  },
  {
   "cell_type": "code",
   "execution_count": 3,
   "metadata": {},
   "outputs": [],
   "source": [
    "def onv_bases(N, K, transition = \"detachment\"):\n",
    "    \"\"\"\n",
    "    Create two ONV bases, based on whether we are describing an electron attachment or detachment. Each ONV basis is\n",
    "    associated with a state: ONVBasis I for state |N-1, (I)> and ONVBasis J for state |N, (J)>.\n",
    "    \"\"\"\n",
    "\n",
    "    N_alpha = N//2 + 1 if N%2 else N//2\n",
    "    N_beta = N//2\n",
    "    \n",
    "    if transition == \"detachment\":\n",
    "        onv_basis_I = gqcpy.SpinResolvedONVBasis(K, N_alpha, N_beta - 1)  # number of spatial orbitals, number of alpha-electrons, number of beta-electrons\n",
    "        onv_basis_J = gqcpy.SpinResolvedONVBasis(K, N_alpha, N_beta)  # number of spatial orbitals, number of alpha-electrons, number of beta-electrons\n",
    "        \n",
    "    elif transition == \"attachment\":\n",
    "        onv_basis_I = gqcpy.SpinResolvedONVBasis(K, N_alpha + 1, N_beta)  # number of spatial orbitals, number of alpha-electrons, number of beta-electrons\n",
    "        onv_basis_J = gqcpy.SpinResolvedONVBasis(K, N_alpha, N_beta)  # number of spatial orbitals, number of alpha-electrons, number of beta-electrons\n",
    "        \n",
    "    else:\n",
    "        print(\"Specify a valid electron transition process: attachment/detachment.\")\n",
    "        return None\n",
    "    \n",
    "    return (onv_basis_I, onv_basis_J)"
   ]
  },
  {
   "cell_type": "code",
   "execution_count": 4,
   "metadata": {},
   "outputs": [],
   "source": [
    "def uFCI(molecule, onv_basis):\n",
    "    \"\"\"\n",
    "    FCI calculations for an unrestricted spin-orbital basis.\n",
    "    \"\"\"\n",
    "    spin_orbital_basis = gqcpy.USpinOrbitalBasis_d(molecule, \"STO-3G\") # the underlying scalar AO basis is not orthonormal\n",
    "    spin_orbital_basis.lowdinOrthonormalize() # after using Löwdin's orthonormalizing procedure, the spin orbital basis is now orthonormal\n",
    "    \n",
    "    hamiltonian = gqcpy.USQHamiltonian.Molecular(spin_orbital_basis, molecule)\n",
    "    \n",
    "    solver = gqcpy.EigenproblemSolver.Dense()\n",
    "    environment = gqcpy.CIEnvironment.Dense(hamiltonian, onv_basis)\n",
    "\n",
    "    ci_parameters = gqcpy.CI(onv_basis).optimize(solver, environment).groundStateParameters()\n",
    "    \n",
    "    return ci_parameters"
   ]
  },
  {
   "cell_type": "markdown",
   "metadata": {},
   "source": [
    "# Molecular set-up\n",
    "\n",
    "Generate the neutral molecule with N electrons, a positive ion with N-1 electrons (charge +1) and a negative ion with N+1 electrons (charge -1)."
   ]
  },
  {
   "cell_type": "code",
   "execution_count": 5,
   "metadata": {},
   "outputs": [],
   "source": [
    "#neutral_molecule = gqcpy.Molecule.ReadXYZ(\"../../gqcp/tests/data/h2.xyz\" , 0)  # create a neutral molecule with N electrons\n",
    "#positive_ion = gqcpy.Molecule.ReadXYZ(\"../../gqcp/tests/data/h2.xyz\" , +1)  # create a an ion N-1 electrons\n",
    "#negative_ion = gqcpy.Molecule.ReadXYZ(\"../../gqcp/tests/data/h2.xyz\" , -1)  # create a an ion with N+1 electrons\n",
    "\n",
    "neutral_molecule = gqcpy.Molecule.ReadXYZ(\"../../gqcp/tests/data/h2o_crawdad.xyz\" , 0)  # create a neutral molecule with N electrons\n",
    "positive_ion = gqcpy.Molecule.ReadXYZ(\"../../gqcp/tests/data/h2o_crawdad.xyz\" , +1)  # create a an ion N-1 electrons\n",
    "negative_ion = gqcpy.Molecule.ReadXYZ(\"../../gqcp/tests/data/h2o_crawdad.xyz\" , -1)  # create a an ion with N+1 electrons"
   ]
  },
  {
   "cell_type": "markdown",
   "metadata": {},
   "source": [
    "Build an ONV basis for a specified electron transition process, given the dimensions N and K. For this notebook, we have opted for an electron detachment.\n",
    "\n",
    "Here, $I$ describes the state of the $(N \\pm 1)$-electron system $|N\\pm1, (I)>$ and $J$ the state of the $N$-electron system $|N, (J)>$."
   ]
  },
  {
   "cell_type": "code",
   "execution_count": 6,
   "metadata": {},
   "outputs": [],
   "source": [
    "N, M = dimensions(neutral_molecule)\n",
    "K = M//2 # number of spinors per spin compound\n",
    "\n",
    "onv_basis_I, onv_basis_J = onv_bases(N, K, \"detachment\")"
   ]
  },
  {
   "cell_type": "markdown",
   "metadata": {},
   "source": [
    "# Dyson orbitals in the uncorrelated limit"
   ]
  },
  {
   "cell_type": "markdown",
   "metadata": {},
   "source": [
    "Build the linear expansion for a CI wave function in the Hartree-Fock formalism, where all coefficients of a given ONV basis are zero except for the HF determinant."
   ]
  },
  {
   "cell_type": "code",
   "execution_count": 7,
   "metadata": {},
   "outputs": [],
   "source": [
    "Psi_I = gqcpy.LinearExpansion_SpinResolved.HartreeFock(onv_basis_I)\n",
    "Psi_J = gqcpy.LinearExpansion_SpinResolved.HartreeFock(onv_basis_J)"
   ]
  },
  {
   "cell_type": "markdown",
   "metadata": {},
   "source": [
    "Construct Dyson orbitals using the \"pseudo overlap\" $<N-1, (I)|\\hat{a}_P|N, (J)>$ between an $(N-1)$ electron system and a $N$ electron system where an electron is annihilated in each spin-orbital. Only if the annihilation $\\hat{a}_P$ occurs at spinor $\\phi_{K\\sigma}(\\mathbf{r})$ that is unoccupied in $|N-1, (I)>$ , the Dyson amplitude  will be non-zero."
   ]
  },
  {
   "cell_type": "code",
   "execution_count": 8,
   "metadata": {},
   "outputs": [
    {
     "data": {
      "text/plain": [
       "array([0., 0., 0., 0., 1., 0., 0.])"
      ]
     },
     "execution_count": 8,
     "metadata": {},
     "output_type": "execute_result"
    }
   ],
   "source": [
    "d_IJ = gqcpy.DysonOrbital.TransitionAmplitudes(Psi_J, Psi_I)\n",
    "d_IJ.amplitudes()"
   ]
  },
  {
   "cell_type": "markdown",
   "metadata": {},
   "source": [
    "In our case, for a H2 test system, $\\phi_{1\\beta}(\\mathbf{r})$ is unoccupied in $|N-1, (I)>$ and only $<N-1, (I)|\\hat{a}_{1\\beta}|N, (J)>$ will survive."
   ]
  },
  {
   "cell_type": "code",
   "execution_count": 9,
   "metadata": {},
   "outputs": [
    {
     "data": {
      "text/plain": [
       "4"
      ]
     },
     "execution_count": 9,
     "metadata": {},
     "output_type": "execute_result"
    }
   ],
   "source": [
    "phi_K = np.where( d_IJ.amplitudes() != 0 )[0][0]\n",
    "phi_K"
   ]
  },
  {
   "cell_type": "markdown",
   "metadata": {},
   "source": [
    "In a Hartree-Fock picture, the difference of two electron densities, one of an $N$-electron system and the other of a $(N-1)$-electron system, should be reduced to the norm of a Dyson orbital. For a more profound theoretical explanation, the reader is referred to [this page](https://gqcg-res.github.io/dariatols_knowdes/correlation-in-the-dyson-orbital-picture.html#uncorrelated-limit). "
   ]
  },
  {
   "cell_type": "code",
   "execution_count": 10,
   "metadata": {},
   "outputs": [
    {
     "name": "stdout",
     "output_type": "stream",
     "text": [
      "Electron density for |N-1, (I)>:\n",
      "9.0\n",
      "\n",
      "-------------------------\n",
      "\n",
      "Electron density for |N, (J)>:\n",
      "10.0\n"
     ]
    }
   ],
   "source": [
    "electron_density_I = np.sum( np.diagonal( Psi_I.calculate1DM() ) )\n",
    "electron_density_J = np.sum( np.diagonal( Psi_J.calculate1DM() ) )\n",
    "\n",
    "print(\"Electron density for |N-1, (I)>:\")\n",
    "print(electron_density_I)\n",
    "\n",
    "print(\"\\n\" + \"-\"*25 + \"\\n\")\n",
    "\n",
    "print(\"Electron density for |N, (J)>:\")\n",
    "print(electron_density_J)"
   ]
  },
  {
   "cell_type": "code",
   "execution_count": 11,
   "metadata": {},
   "outputs": [
    {
     "name": "stdout",
     "output_type": "stream",
     "text": [
      "Is the difference between the N and (N-1) electron density equal to the Dyson orbital that represents the set of transition amplitudes between these two systems?\n",
      "True\n"
     ]
    }
   ],
   "source": [
    "print(\"Is the difference between the N and (N-1) electron density equal to the Dyson orbital that represents the set of transition amplitudes between these two systems?\")\n",
    "print( np.abs(electron_density_J - electron_density_I) == d_IJ.amplitudes()[phi_K]**2 )"
   ]
  },
  {
   "cell_type": "markdown",
   "metadata": {},
   "source": [
    "# Dyson orbitals when correlation is present"
   ]
  },
  {
   "cell_type": "markdown",
   "metadata": {},
   "source": [
    "In contrary to the HF framework, the wave function for both the neutral molecule and the positive ion will now have contributions from more determinants than just the HF determinant."
   ]
  },
  {
   "cell_type": "code",
   "execution_count": 12,
   "metadata": {},
   "outputs": [],
   "source": [
    "Psi_I = uFCI(positive_ion, onv_basis_I)\n",
    "Psi_J = uFCI(neutral_molecule, onv_basis_J)"
   ]
  },
  {
   "cell_type": "markdown",
   "metadata": {},
   "source": [
    "Construct Dyson orbital containing transition amplitudes defined as $<N-1, (I)|\\hat{a}_P|N, (J)>$. Because the wavefunctions $|N\\pm1, (I)>$ and $|N, (J)>$ now consist of more than one determinant, the Dyson orbital will contain more than one non-zero transition amplitude."
   ]
  },
  {
   "cell_type": "code",
   "execution_count": 13,
   "metadata": {},
   "outputs": [
    {
     "data": {
      "text/plain": [
       "array([ 3.87269627e-16, -2.14325442e-15, -2.17202118e-14,  3.34082558e-14,\n",
       "       -9.43605291e-01,  9.04945553e-15, -1.96580681e-14])"
      ]
     },
     "execution_count": 13,
     "metadata": {},
     "output_type": "execute_result"
    }
   ],
   "source": [
    "d_IJ = gqcpy.DysonOrbital.TransitionAmplitudes(Psi_J, Psi_I)\n",
    "d_IJ.amplitudes()"
   ]
  },
  {
   "cell_type": "code",
   "execution_count": null,
   "metadata": {},
   "outputs": [],
   "source": []
  },
  {
   "cell_type": "code",
   "execution_count": null,
   "metadata": {},
   "outputs": [],
   "source": []
  }
 ],
 "metadata": {
  "kernelspec": {
   "display_name": "Python 3",
   "language": "python",
   "name": "python3"
  },
  "language_info": {
   "codemirror_mode": {
    "name": "ipython",
    "version": 3
   },
   "file_extension": ".py",
   "mimetype": "text/x-python",
   "name": "python",
   "nbconvert_exporter": "python",
   "pygments_lexer": "ipython3",
   "version": "3.7.7"
  }
 },
 "nbformat": 4,
 "nbformat_minor": 4
}
