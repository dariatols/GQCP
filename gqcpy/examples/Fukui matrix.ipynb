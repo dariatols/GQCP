{
 "cells": [
  {
   "cell_type": "code",
   "execution_count": 1,
   "metadata": {},
   "outputs": [],
   "source": [
    "# Force the local gqcpy to be imported\n",
    "import sys\n",
    "sys.path.insert(0, '../../build/gqcpy/')\n",
    "\n",
    "import gqcpy\n",
    "import numpy as np"
   ]
  },
  {
   "cell_type": "markdown",
   "metadata": {},
   "source": [
    "# Preliminary functions\n",
    "Functions that make our life easier, since we will be reusing some code."
   ]
  },
  {
   "cell_type": "code",
   "execution_count": 2,
   "metadata": {},
   "outputs": [],
   "source": [
    "def dimensions(molecule):\n",
    "    \"\"\"\n",
    "    Return the dimensions (N, M) of a molecule in a given basis. Here, N is the number of electrons and M the number of spinors.\n",
    "    \"\"\"\n",
    "    N = molecule.numberOfElectrons()\n",
    "\n",
    "    spin_orbital_basis = gqcpy.USpinOrbitalBasis_d(molecule, \"STO-3G\")\n",
    "    M = spin_orbital_basis.numberOfSpinors()\n",
    "    \n",
    "    return (N, M)"
   ]
  },
  {
   "cell_type": "code",
   "execution_count": 3,
   "metadata": {},
   "outputs": [],
   "source": [
    "def onv_bases(N, K):\n",
    "    \"\"\"\n",
    "    Create three ONV bases: I for the (N-1) electron system, J for the N-electron system and K for the (N+1)-electron system.\n",
    "    \"\"\"\n",
    "\n",
    "    N_alpha = N//2 + 1 if N%2 else N//2\n",
    "    N_beta = N//2\n",
    "    \n",
    "    onv_basis_I = gqcpy.SpinResolvedONVBasis(K, N_alpha, N_beta - 1)  # number of spatial orbitals, number of alpha-electrons, number of beta-electrons\n",
    "    onv_basis_J = gqcpy.SpinResolvedONVBasis(K, N_alpha, N_beta)  # number of spatial orbitals, number of alpha-electrons, number of beta-electrons\n",
    "    onv_basis_K = gqcpy.SpinResolvedONVBasis(K, N_alpha + 1, N_beta)  # number of spatial orbitals, number of alpha-electrons, number of beta-electrons\n",
    "\n",
    "    return (onv_basis_I, onv_basis_J, onv_basis_K)"
   ]
  },
  {
   "cell_type": "code",
   "execution_count": 4,
   "metadata": {},
   "outputs": [],
   "source": [
    "def C_RHF(molecule):\n",
    "    \"\"\"\n",
    "    Generate restricted spinors, defined as the expansion coefficients in the scalar AO basis, from a restricted\n",
    "    Hartree-Fock calculation.\n",
    "    \"\"\"\n",
    "    N = molecule.numberOfElectrons()\n",
    "    N_P = molecule.numberOfElectronPairs()\n",
    "    \n",
    "    spin_orbital_basis = gqcpy.RSpinOrbitalBasis_d(molecule, \"STO-3G\")\n",
    "    K = spin_orbital_basis.numberOfSpatialOrbitals()\n",
    "    #print(\"N: {}\\nN_P: {}\\nK: {}\".format(N, N_P, K))\n",
    "\n",
    "    hamiltonian = gqcpy.RSQHamiltonian.Molecular(spin_orbital_basis, molecule)\n",
    "    S = spin_orbital_basis.quantizeOverlapOperator().parameters()\n",
    "\n",
    "    environment = gqcpy.RHFSCFEnvironment.WithCoreGuess(N, hamiltonian, S)\n",
    "    solver = gqcpy.RHFSCFSolver.Plain()\n",
    "    objective = gqcpy.DiagonalRHFFockMatrixObjective(hamiltonian)  # use the default threshold of 1.0e-08\n",
    "    rhf_parameters = gqcpy.RHF.optimize(objective, solver, environment).groundStateParameters()\n",
    "    \n",
    "    return rhf_parameters.expansion()"
   ]
  },
  {
   "cell_type": "code",
   "execution_count": 5,
   "metadata": {},
   "outputs": [],
   "source": [
    "def C_UHF(molecule):\n",
    "    \"\"\"\n",
    "    Generate unrestricted spin-orbitals, for each spin component defined as the expansion coefficients \n",
    "    in the scalar AO basis, from an unrestricted Hartree-Fock calculation.\n",
    "    \"\"\"\n",
    "    N = molecule.numberOfElectrons()\n",
    "    N_alpha = N//2 + 1 if N%2 else N//2\n",
    "    N_beta = N//2\n",
    "\n",
    "    spinor_basis = gqcpy.RSpinOrbitalBasis_d(molecule, \"STO-3G\")\n",
    "    K = spinor_basis.numberOfSpatialOrbitals()\n",
    "    #print(\"N_alpha: {}\\nN_beta: {}\\nK: {}\".format(N_alpha, N_beta, K))\n",
    "    \n",
    "    hamiltonian = gqcpy.RSQHamiltonian.Molecular(spinor_basis, molecule) \n",
    "    S = spinor_basis.quantizeOverlapOperator().parameters()\n",
    "    \n",
    "    environment = gqcpy.UHFSCFEnvironment.WithCoreGuess(N_alpha, N_beta, hamiltonian, S)\n",
    "    solver = gqcpy.UHFSCFSolver.Plain()\n",
    "    uhf_parameters = gqcpy.UHF.optimize(solver, environment).groundStateParameters()\n",
    "    return uhf_parameters.expansion()"
   ]
  },
  {
   "cell_type": "code",
   "execution_count": 6,
   "metadata": {},
   "outputs": [],
   "source": [
    "def TM(C_ion, C_neutral):\n",
    "    \"\"\"\n",
    "    Return a transformation matrix that expresses a neutral spinor/spin-orbital in terms of the ones of the ionized molecule.\n",
    "    \"\"\"\n",
    "    return C_ion.inverse().transformed(C_neutral)"
   ]
  },
  {
   "cell_type": "code",
   "execution_count": 7,
   "metadata": {},
   "outputs": [],
   "source": [
    "def uFCI(molecule, onv_basis):\n",
    "    \"\"\"\n",
    "    FCI calculations for an unrestricted spin-orbital basis.\n",
    "    \"\"\"\n",
    "    spin_orbital_basis = gqcpy.USpinOrbitalBasis_d(molecule, \"STO-3G\") # the underlying scalar AO basis is not orthonormal\n",
    "    spin_orbital_basis.lowdinOrthonormalize() # after using Löwdin's orthonormalizing procedure, the spin orbital basis is now orthonormal\n",
    "    \n",
    "    hamiltonian = gqcpy.USQHamiltonian.Molecular(spin_orbital_basis, molecule)\n",
    "    \n",
    "    solver = gqcpy.EigenproblemSolver.Dense()\n",
    "    environment = gqcpy.CIEnvironment.Dense(hamiltonian, onv_basis)\n",
    "\n",
    "    ci_parameters = gqcpy.CI(onv_basis).optimize(solver, environment).groundStateParameters()\n",
    "    \n",
    "    return ci_parameters"
   ]
  },
  {
   "cell_type": "markdown",
   "metadata": {},
   "source": [
    "# Molecular set-up\n",
    "\n",
    "Generate the neutral molecule with N electrons, a positive ion with N-1 electrons (charge +1) and a negative ion with N+1 electrons (charge -1)."
   ]
  },
  {
   "cell_type": "code",
   "execution_count": 8,
   "metadata": {},
   "outputs": [],
   "source": [
    "#neutral_molecule = gqcpy.Molecule.ReadXYZ(\"../../gqcp/tests/data/h2.xyz\" , 0)  # create a neutral molecule with N electrons\n",
    "#positive_ion = gqcpy.Molecule.ReadXYZ(\"../../gqcp/tests/data/h2.xyz\" , +1)  # create a an ion N-1 electrons\n",
    "#negative_ion = gqcpy.Molecule.ReadXYZ(\"../../gqcp/tests/data/h2.xyz\" , -1)  # create a an ion with N+1 electrons\n",
    "\n",
    "neutral_molecule = gqcpy.Molecule.ReadXYZ(\"../../gqcp/tests/data/h2o_crawdad.xyz\" , 0)  # create a neutral molecule with N electrons\n",
    "positive_ion = gqcpy.Molecule.ReadXYZ(\"../../gqcp/tests/data/h2o_crawdad.xyz\" , +1)  # create a an ion N-1 electrons\n",
    "negative_ion = gqcpy.Molecule.ReadXYZ(\"../../gqcp/tests/data/h2o_crawdad.xyz\" , -1)  # create a an ion with N+1 electrons"
   ]
  },
  {
   "cell_type": "code",
   "execution_count": 9,
   "metadata": {},
   "outputs": [],
   "source": [
    "N, M = dimensions(neutral_molecule)\n",
    "K = M//2 # number of spinors per spin compound\n",
    "\n",
    "onv_basis_I, onv_basis_J, onv_basis_K = onv_bases(N, K)"
   ]
  },
  {
   "cell_type": "markdown",
   "metadata": {},
   "source": [
    "# Fukui matrix in the uncorrelated limit"
   ]
  },
  {
   "cell_type": "markdown",
   "metadata": {},
   "source": [
    "To generate the transformation matrix [$\\mathbf{U}^\\pm$](https://gqcg-res.github.io/dariatols_knowdes/fukui-matrix.html), we must combine the coefficient matrix of the neutral molecule and the ion. More details on the transformation of the density matrix is found in the link."
   ]
  },
  {
   "cell_type": "code",
   "execution_count": 10,
   "metadata": {},
   "outputs": [],
   "source": [
    "C_min = C_UHF(positive_ion)\n",
    "C_neutral = C_UHF(neutral_molecule)\n",
    "C_plus = C_UHF(negative_ion)\n",
    "\n",
    "U_min = TM(C_min, C_neutral)\n",
    "U_plus = TM(C_plus, C_neutral)"
   ]
  },
  {
   "cell_type": "markdown",
   "metadata": {},
   "source": [
    "Because unitary transformations preserve the inner product, only $\\mathbf{U}$ should be a unitary matrix. "
   ]
  },
  {
   "cell_type": "code",
   "execution_count": 11,
   "metadata": {},
   "outputs": [
    {
     "name": "stdout",
     "output_type": "stream",
     "text": [
      "Is C_min / C_plus unitary? False / False\n",
      "Is C_neutral unitary?  False\n",
      "Is U_min / U_plus unitary? True / True\n"
     ]
    }
   ],
   "source": [
    "print(\"Is C_min / C_plus unitary? {} / {}\".format(C_min.isUnitary(), C_plus.isUnitary()))\n",
    "print(\"Is C_neutral unitary? \", C_neutral.isUnitary())\n",
    "print(\"Is U_min / U_plus unitary? {} / {}\".format(U_min.isUnitary(), U_plus.isUnitary()))"
   ]
  },
  {
   "cell_type": "markdown",
   "metadata": {},
   "source": [
    "Build the linear expansion for a CI wave function in the Hartree-Fock formalism, where all coefficients of a given ONV basis are zero except for the HF determinant."
   ]
  },
  {
   "cell_type": "code",
   "execution_count": 12,
   "metadata": {},
   "outputs": [
    {
     "name": "stdout",
     "output_type": "stream",
     "text": [
      "ONV basis dimensions:\n",
      "---------------------\n",
      "N-1:\t735\n",
      "N:\t441\n",
      "N+1:\t147\n"
     ]
    }
   ],
   "source": [
    "Psi_I = gqcpy.LinearExpansion_SpinResolved.HartreeFock(onv_basis_I)\n",
    "#print(Psi_I.coefficients())\n",
    "Psi_J = gqcpy.LinearExpansion_SpinResolved.HartreeFock(onv_basis_J)\n",
    "#print(Psi_J.coefficients())\n",
    "Psi_K = gqcpy.LinearExpansion_SpinResolved.HartreeFock(onv_basis_K)\n",
    "#print(Psi_K.coefficients())\n",
    "\n",
    "print(\"ONV basis dimensions:\\n---------------------\\nN-1:\\t{}\\nN:\\t{}\\nN+1:\\t{}\".format(\n",
    "        len(Psi_I.coefficients()), len(Psi_J.coefficients()), len(Psi_K.coefficients())))"
   ]
  },
  {
   "cell_type": "markdown",
   "metadata": {},
   "source": [
    "To calculate the Fukui matrix, we will need the difference of two density matrices, expressed in the same spin-orbital basis. Therefore, we must transform the density matrix of the ionary species. The density matrix of the neutral species `DM_J` is already in terms of its own spin-orbitals and must therefore not be transformed."
   ]
  },
  {
   "cell_type": "code",
   "execution_count": 13,
   "metadata": {},
   "outputs": [],
   "source": [
    "DM_I = Psi_I.calculateSpinResolved1DM()\n",
    "DM_J = Psi_J.calculateSpinResolved1DM()\n",
    "DM_K = Psi_K.calculateSpinResolved1DM()\n",
    "\n",
    "DM_I = DM_I.transformed(U_min)\n",
    "DM_K = DM_K.transformed(U_plus)"
   ]
  },
  {
   "cell_type": "markdown",
   "metadata": {},
   "source": [
    "Due to the discontinuity in the energy versus the number of electrons, one must define an upper and lower limit of the Fukui function and accordingly split the Fukui matrix into a positive and negative component. Here, `FM_plus` is $F^+_{pq}$ and `FM_min` is $F^-_{pq}$."
   ]
  },
  {
   "cell_type": "code",
   "execution_count": 14,
   "metadata": {},
   "outputs": [],
   "source": [
    "FM_min = DM_J - DM_I\n",
    "FM_plus = DM_K - DM_J"
   ]
  },
  {
   "cell_type": "markdown",
   "metadata": {},
   "source": [
    "To assess the quality of the algebraic manipulations ([Bultinck2011](https://pubs.rsc.org/en/content/articlelanding/2011/CP/c0cp02268c#!divAbstract)), we must check the effect of adding or removing an electron on the Fukui matrix. To obtain the $(N+1)$-electron system, we have added an $\\alpha$-electron to its spin-orbitals. This means that the $\\alpha$ part of $\\mathbf{F}^+$ will incorporate an additional electron, which must be reflected in the trace of the Fukui matrix. "
   ]
  },
  {
   "cell_type": "code",
   "execution_count": 15,
   "metadata": {},
   "outputs": [
    {
     "data": {
      "text/plain": [
       "1.0000000000000069"
      ]
     },
     "execution_count": 15,
     "metadata": {},
     "output_type": "execute_result"
    }
   ],
   "source": [
    "np.trace(FM_plus.alpha)"
   ]
  },
  {
   "cell_type": "markdown",
   "metadata": {},
   "source": [
    "Additionally, since `Psi_J` and `Psi_K` both have the same number of $\\beta$-electrons, the trace of $\\mathbf{F}^{+,\\beta}$ should be zero."
   ]
  },
  {
   "cell_type": "code",
   "execution_count": 16,
   "metadata": {},
   "outputs": [
    {
     "data": {
      "text/plain": [
       "2.427616755621559e-15"
      ]
     },
     "execution_count": 16,
     "metadata": {},
     "output_type": "execute_result"
    }
   ],
   "source": [
    "np.trace(FM_plus.beta)"
   ]
  },
  {
   "cell_type": "markdown",
   "metadata": {},
   "source": [
    "We can work analogously for $\\mathbf{F}^-$: `Psi_I` has one less $\\beta$ electron than `Psi_J` and consequently, the trace of $F^{-,\\beta}$ should be 1"
   ]
  },
  {
   "cell_type": "code",
   "execution_count": 17,
   "metadata": {},
   "outputs": [
    {
     "data": {
      "text/plain": [
       "0.9999999999999963"
      ]
     },
     "execution_count": 17,
     "metadata": {},
     "output_type": "execute_result"
    }
   ],
   "source": [
    "np.trace(FM_min.beta)"
   ]
  },
  {
   "cell_type": "markdown",
   "metadata": {},
   "source": [
    "whereas the trace of $F^{-,\\alpha}$ should be zero now."
   ]
  },
  {
   "cell_type": "code",
   "execution_count": 18,
   "metadata": {},
   "outputs": [
    {
     "data": {
      "text/plain": [
       "-2.5431046157819992e-15"
      ]
     },
     "execution_count": 18,
     "metadata": {},
     "output_type": "execute_result"
    }
   ],
   "source": [
    "np.trace(FM_min.alpha)"
   ]
  },
  {
   "cell_type": "markdown",
   "metadata": {},
   "source": [
    "### $F^{+}$"
   ]
  },
  {
   "cell_type": "markdown",
   "metadata": {},
   "source": [
    "First, we will diagonalize $F^{+,\\alpha}$ which has trace 1. According to [Bultinck2011](https://pubs.rsc.org/en/content/articlelanding/2011/CP/c0cp02268c#!divAbstract), the Frontier Molecular Orbital (FMO) approximation is perfect if a single eigenvalue equal to 1 appears. Its corresponding Fukui natural should be solely composed of the FMO of the neutral compound. In our case, we have an eigenvalue of 1, with a corresponding Fukui natural that is exclusively constructed of the FMO of the neutral molecule. Other eigenvalues come in pairs, as described in the article."
   ]
  },
  {
   "cell_type": "code",
   "execution_count": 19,
   "metadata": {
    "scrolled": true
   },
   "outputs": [
    {
     "name": "stdout",
     "output_type": "stream",
     "text": [
      "[-1.32857404e-01  3.74797419e-16  4.33659659e-16  1.39988019e-15\n",
      "  1.63580995e-15  1.32857404e-01  1.00000000e+00]\n",
      "\n",
      "\n",
      "\n",
      "[[-0.    -0.997 -0.008 -0.062  0.054  0.    -0.   ]\n",
      " [ 0.     0.063 -0.    -0.998  0.009 -0.     0.   ]\n",
      " [-0.753 -0.     0.     0.    -0.    -0.658 -0.   ]\n",
      " [-0.     0.054 -0.005  0.012  0.998  0.     0.   ]\n",
      " [-0.    -0.007  1.    -0.001  0.006  0.    -0.   ]\n",
      " [-0.     0.    -0.    -0.     0.     0.    -1.   ]\n",
      " [ 0.658 -0.     0.     0.     0.    -0.753 -0.   ]]\n"
     ]
    }
   ],
   "source": [
    "F_plus_eigenvalues, F_plus_naturals = np.linalg.eigh(FM_plus.alpha)\n",
    "\n",
    "print(F_plus_eigenvalues)\n",
    "print(\"\\n\\n\")\n",
    "print(np.round(F_plus_naturals, 3))"
   ]
  },
  {
   "cell_type": "markdown",
   "metadata": {},
   "source": [
    "Diagonalizing $F^{+,\\beta}$ results in eigenvalues that either come in pairs, or are zero."
   ]
  },
  {
   "cell_type": "code",
   "execution_count": 20,
   "metadata": {},
   "outputs": [
    {
     "name": "stdout",
     "output_type": "stream",
     "text": [
      "[-8.47147881e-02 -5.32910853e-03 -6.54570832e-16  4.65957588e-20\n",
      "  1.33891934e-15  5.32910853e-03  8.47147881e-02]\n",
      "\n",
      "\n",
      "\n",
      "[[-0.005  0.     1.    -0.     0.019 -0.    -0.004]\n",
      " [ 0.551 -0.     0.017  0.    -0.664 -0.     0.506]\n",
      " [ 0.    -0.709 -0.     0.     0.    -0.705  0.   ]\n",
      " [-0.489 -0.     0.01   0.    -0.748 -0.    -0.449]\n",
      " [ 0.    -0.    -0.    -1.    -0.    -0.    -0.   ]\n",
      " [-0.676  0.     0.    -0.     0.    -0.     0.736]\n",
      " [-0.    -0.705  0.     0.     0.     0.709  0.   ]]\n"
     ]
    }
   ],
   "source": [
    "F_plus_eigenvalues, F_plus_naturals = np.linalg.eigh(FM_plus.beta)\n",
    "\n",
    "print(F_plus_eigenvalues)\n",
    "print(\"\\n\\n\")\n",
    "print(np.round(F_plus_naturals, 3))"
   ]
  },
  {
   "cell_type": "markdown",
   "metadata": {},
   "source": [
    "### $F^{-}$"
   ]
  },
  {
   "cell_type": "markdown",
   "metadata": {},
   "source": [
    "Similar to $F^{+}$, we can both diagonalize the $\\alpha$ and $\\beta$ part of $F^{-}$. $F^{-,\\beta}$ with trace 1 will have a Fukui eigenvalue of 1, with a corresponding Fukui natural consisting of the FMO."
   ]
  },
  {
   "cell_type": "code",
   "execution_count": 21,
   "metadata": {},
   "outputs": [
    {
     "name": "stdout",
     "output_type": "stream",
     "text": [
      "[-1.18219603e-01 -9.83592966e-02 -8.47515873e-16 -2.93218051e-16\n",
      "  9.83592966e-02  1.18219603e-01  1.00000000e+00]\n",
      "\n",
      "\n",
      "\n",
      "[[-0.004  0.     0.089 -0.996  0.     0.004  0.   ]\n",
      " [-0.134  0.    -0.976 -0.086  0.     0.151 -0.   ]\n",
      " [ 0.     0.671  0.     0.     0.741 -0.     0.   ]\n",
      " [ 0.65  -0.    -0.2   -0.024 -0.    -0.732 -0.   ]\n",
      " [-0.     0.     0.    -0.     0.    -0.    -1.   ]\n",
      " [ 0.748 -0.     0.     0.     0.     0.664 -0.   ]\n",
      " [-0.    -0.741 -0.    -0.     0.671 -0.     0.   ]]\n"
     ]
    }
   ],
   "source": [
    "F_min_eigenvalues, F_min_naturals = np.linalg.eigh(FM_min.beta)\n",
    "\n",
    "print(F_min_eigenvalues)\n",
    "print(\"\\n\\n\")\n",
    "print(np.round(F_min_naturals, 3))"
   ]
  },
  {
   "cell_type": "markdown",
   "metadata": {},
   "source": [
    "Diagonalizing $F^{-,\\alpha}$ results in eigenvalues that either come in pairs, or are zero."
   ]
  },
  {
   "cell_type": "code",
   "execution_count": 22,
   "metadata": {},
   "outputs": [
    {
     "name": "stdout",
     "output_type": "stream",
     "text": [
      "[-1.82838831e-01 -1.76256683e-01 -7.39123799e-16 -3.85004198e-16\n",
      "  2.71846167e-20  1.76256683e-01  1.82838831e-01]\n",
      "\n",
      "\n",
      "\n",
      "[[ 0.     0.    -0.052 -0.999 -0.    -0.    -0.   ]\n",
      " [-0.291 -0.     0.889 -0.046 -0.005  0.     0.35 ]\n",
      " [ 0.    -0.642 -0.     0.     0.     0.767 -0.   ]\n",
      " [ 0.569  0.     0.454 -0.023 -0.003 -0.    -0.685]\n",
      " [ 0.    -0.    -0.006  0.001 -1.     0.    -0.   ]\n",
      " [ 0.769  0.    -0.     0.     0.     0.     0.639]\n",
      " [-0.     0.767  0.    -0.     0.     0.642 -0.   ]]\n"
     ]
    }
   ],
   "source": [
    "F_min_eigenvalues, F_min_naturals = np.linalg.eigh(FM_min.alpha)\n",
    "print(F_min_eigenvalues)\n",
    "print(\"\\n\\n\")\n",
    "print(np.round(F_min_naturals, 3))"
   ]
  },
  {
   "cell_type": "markdown",
   "metadata": {},
   "source": [
    "# Fukui matrix when correlation is present"
   ]
  },
  {
   "cell_type": "code",
   "execution_count": 23,
   "metadata": {},
   "outputs": [
    {
     "name": "stdout",
     "output_type": "stream",
     "text": [
      "ONV basis dimensions:\n",
      "---------------------\n",
      "N-1:\t735\n",
      "N:\t441\n",
      "N+1:\t147\n"
     ]
    }
   ],
   "source": [
    "Psi_I = uFCI(positive_ion, onv_basis_I)\n",
    "#print(Psi_I.coefficients())\n",
    "Psi_J = uFCI(neutral_molecule, onv_basis_J)\n",
    "#print(Psi_J.coefficients())\n",
    "Psi_K = uFCI(negative_ion, onv_basis_K)\n",
    "#print(Psi_K.coefficients())\n",
    "\n",
    "print(\"ONV basis dimensions:\\n---------------------\\nN-1:\\t{}\\nN:\\t{}\\nN+1:\\t{}\".format(\n",
    "        len(Psi_I.coefficients()), len(Psi_J.coefficients()), len(Psi_K.coefficients())))"
   ]
  },
  {
   "cell_type": "markdown",
   "metadata": {},
   "source": [
    "To calculate the Fukui matrix, we will need the difference of two density matrices, expressed in the same spin-orbital basis. Therefore, we must transform the density matrix of the ionary species. The density matrix of the neutral species `DM_J` is already in terms of its own spin-orbitals and must therefore not be transformed."
   ]
  },
  {
   "cell_type": "code",
   "execution_count": 24,
   "metadata": {},
   "outputs": [],
   "source": [
    "DM_I = Psi_I.calculateSpinResolved1DM()\n",
    "DM_J = Psi_J.calculateSpinResolved1DM()\n",
    "DM_K = Psi_K.calculateSpinResolved1DM()\n",
    "\n",
    "DM_I = DM_I.transformed(U_min)\n",
    "DM_K = DM_K.transformed(U_plus)"
   ]
  },
  {
   "cell_type": "markdown",
   "metadata": {},
   "source": [
    "Due to the discontinuity in the energy versus the number of electrons, one must define an upper and lower limit of the Fukui function and accordingly split the Fukui matrix into a positive and negative component. Here, `FM_plus` is $F^+_{pq}$ and `FM_min` is $F^-_{pq}$."
   ]
  },
  {
   "cell_type": "code",
   "execution_count": 25,
   "metadata": {},
   "outputs": [],
   "source": [
    "FM_min = DM_J - DM_I\n",
    "FM_plus = DM_K - DM_J"
   ]
  },
  {
   "cell_type": "markdown",
   "metadata": {},
   "source": [
    "To assess the quality of the algebraic manipulations ([Bultinck2012](https://pubs.rsc.org/en/Content/ArticleLanding/CP/2012/C2CP…)), we must check the effect of adding or removing an electron on the Fukui matrix. To obtain the $(N+1)$-electron system, we have added an $\\alpha$-electron to its spin-orbitals. This means that the $\\alpha$ part of $\\mathbf{F}^+$ will incorporate an additional electron, which must be reflected in the trace of the Fukui matrix. "
   ]
  },
  {
   "cell_type": "code",
   "execution_count": 26,
   "metadata": {},
   "outputs": [
    {
     "data": {
      "text/plain": [
       "0.9999999999999869"
      ]
     },
     "execution_count": 26,
     "metadata": {},
     "output_type": "execute_result"
    }
   ],
   "source": [
    "np.trace(FM_plus.alpha)"
   ]
  },
  {
   "cell_type": "markdown",
   "metadata": {},
   "source": [
    "Additionally, since `Psi_J` and `Psi_K` both have the same number of $\\beta$-electrons, the trace of $\\mathbf{F}^{+,\\beta}$ should be zero."
   ]
  },
  {
   "cell_type": "code",
   "execution_count": 27,
   "metadata": {},
   "outputs": [
    {
     "data": {
      "text/plain": [
       "-1.6542323066914832e-14"
      ]
     },
     "execution_count": 27,
     "metadata": {},
     "output_type": "execute_result"
    }
   ],
   "source": [
    "np.trace(FM_plus.beta)"
   ]
  },
  {
   "cell_type": "markdown",
   "metadata": {},
   "source": [
    "We can work analogously for $\\mathbf{F}^-$: `Psi_I` has one less $\\beta$ electron than `Psi_J` and consequently, the trace of $F^{-,\\beta}$ should be 1"
   ]
  },
  {
   "cell_type": "code",
   "execution_count": 28,
   "metadata": {},
   "outputs": [
    {
     "data": {
      "text/plain": [
       "0.9999999999999681"
      ]
     },
     "execution_count": 28,
     "metadata": {},
     "output_type": "execute_result"
    }
   ],
   "source": [
    "np.trace(FM_min.beta)"
   ]
  },
  {
   "cell_type": "markdown",
   "metadata": {},
   "source": [
    "whereas the trace of $F^{-,\\alpha}$ should be zero now."
   ]
  },
  {
   "cell_type": "code",
   "execution_count": 29,
   "metadata": {},
   "outputs": [
    {
     "data": {
      "text/plain": [
       "-3.985700658404312e-14"
      ]
     },
     "execution_count": 29,
     "metadata": {},
     "output_type": "execute_result"
    }
   ],
   "source": [
    "np.trace(FM_min.alpha)"
   ]
  },
  {
   "cell_type": "markdown",
   "metadata": {},
   "source": [
    "### $F^{+}$"
   ]
  },
  {
   "cell_type": "markdown",
   "metadata": {},
   "source": [
    "First, we will diagonalize $F^{+,\\alpha}$ which has trace 1. According to [Bultinck2012](https://pubs.rsc.org/en/Content/ArticleLanding/CP/2012/C2CP22543C#!divAbstract), the Frontier Molecular Orbital (FMO) approximation is perfect if a single eigenvalue equal to 1 appears. For correlated wave functions, this eigenvalue of 1 will be replaced by an eigenvalue close to unity. The normalization of the Fukui function causes the pairing of other eigenvalues to be lost since this property is only for idempotent density matrices (single determinant level of theory)."
   ]
  },
  {
   "cell_type": "code",
   "execution_count": 30,
   "metadata": {
    "scrolled": true
   },
   "outputs": [
    {
     "name": "stdout",
     "output_type": "stream",
     "text": [
      "[-6.12084707e-01 -5.75253846e-03  7.83852014e-07  5.29324001e-04\n",
      "  1.52690243e-02  6.39622216e-01  9.62415898e-01]\n",
      "\n",
      "\n",
      "\n",
      "[[ 0.015 -0.095  0.994 -0.    -0.017  0.033 -0.032]\n",
      " [-0.137  0.876  0.107  0.     0.243 -0.274  0.261]\n",
      " [ 0.768  0.252  0.002  0.    -0.333 -0.263 -0.407]\n",
      " [-0.179 -0.117  0.01   0.    -0.717 -0.462  0.476]\n",
      " [ 0.    -0.     0.     1.     0.     0.    -0.   ]\n",
      " [-0.189  0.382  0.003  0.    -0.552  0.706 -0.123]\n",
      " [-0.569  0.037 -0.    -0.    -0.101 -0.377 -0.723]]\n"
     ]
    }
   ],
   "source": [
    "F_plus_eigenvalues, F_plus_naturals = np.linalg.eigh(FM_plus.alpha)\n",
    "\n",
    "print(F_plus_eigenvalues)\n",
    "print(\"\\n\\n\")\n",
    "print(np.round(F_plus_naturals, 3))"
   ]
  },
  {
   "cell_type": "markdown",
   "metadata": {},
   "source": [
    "Diagonalizing $F^{+,\\beta}$ results in eigenvalues without any symmetry."
   ]
  },
  {
   "cell_type": "code",
   "execution_count": 31,
   "metadata": {},
   "outputs": [
    {
     "name": "stdout",
     "output_type": "stream",
     "text": [
      "[-8.32639854e-02 -3.36238950e-02 -1.53452329e-06  5.29324001e-04\n",
      "  4.21274185e-03  3.41838442e-02  7.79635049e-02]\n",
      "\n",
      "\n",
      "\n",
      "[[-0.059 -0.068  0.995 -0.     0.008 -0.03   0.013]\n",
      " [ 0.022  0.725  0.06  -0.     0.337  0.52   0.294]\n",
      " [-0.274  0.562  0.022  0.    -0.734 -0.247 -0.092]\n",
      " [ 0.947  0.181  0.069 -0.    -0.157 -0.098 -0.178]\n",
      " [-0.    -0.    -0.    -1.    -0.    -0.     0.   ]\n",
      " [-0.017 -0.225  0.016  0.    -0.381  0.794 -0.415]\n",
      " [-0.156  0.265  0.012 -0.     0.422 -0.164 -0.837]]\n"
     ]
    }
   ],
   "source": [
    "F_plus_eigenvalues, F_plus_naturals = np.linalg.eigh(FM_plus.beta)\n",
    "\n",
    "print(F_plus_eigenvalues)\n",
    "print(\"\\n\\n\")\n",
    "print(np.round(F_plus_naturals, 3))"
   ]
  },
  {
   "cell_type": "markdown",
   "metadata": {},
   "source": [
    "### $F^{-}$"
   ]
  },
  {
   "cell_type": "markdown",
   "metadata": {},
   "source": [
    "Similar to $F^{+}$, we can both diagonalize the $\\alpha$ and $\\beta$ part of $F^{-}$. $F^{-,\\beta}$ with trace 1 will have a Fukui eigenvalue close to 1, with a corresponding Fukui natural consisting of the FMO."
   ]
  },
  {
   "cell_type": "code",
   "execution_count": 32,
   "metadata": {},
   "outputs": [
    {
     "name": "stdout",
     "output_type": "stream",
     "text": [
      "[-8.14247579e-01 -5.92526562e-01 -4.38523423e-04  1.98237685e-06\n",
      "  5.92279175e-01  8.20356667e-01  9.94574839e-01]\n",
      "\n",
      "\n",
      "\n",
      "[[-0.05  -0.015 -0.034  0.997  0.017 -0.05   0.   ]\n",
      " [ 0.418  0.124  0.775  0.073 -0.125  0.433 -0.   ]\n",
      " [ 0.499 -0.442 -0.379  0.02   0.456  0.452 -0.   ]\n",
      " [ 0.408  0.604  0.001 -0.001  0.548 -0.41  -0.   ]\n",
      " [-0.     0.     0.     0.    -0.    -0.    -1.   ]\n",
      " [-0.571  0.397 -0.013 -0.001  0.422  0.582 -0.   ]\n",
      " [-0.287 -0.516  0.504 -0.03   0.546 -0.314 -0.   ]]\n"
     ]
    }
   ],
   "source": [
    "F_min_eigenvalues, F_min_naturals = np.linalg.eigh(FM_min.beta)\n",
    "\n",
    "print(F_min_eigenvalues)\n",
    "print(\"\\n\\n\")\n",
    "print(np.round(F_min_naturals, 3))"
   ]
  },
  {
   "cell_type": "markdown",
   "metadata": {},
   "source": [
    "Diagonalizing $F^{-,\\alpha}$ results in eigenvalues that do not show any symmetry."
   ]
  },
  {
   "cell_type": "code",
   "execution_count": 33,
   "metadata": {},
   "outputs": [
    {
     "name": "stdout",
     "output_type": "stream",
     "text": [
      "[-8.13354793e-01 -8.12553741e-02 -7.60813011e-03 -1.75241925e-05\n",
      "  2.14698335e-03  7.98897510e-02  8.20199087e-01]\n",
      "\n",
      "\n",
      "\n",
      "[[ 0.057  0.01  -0.017  0.993  0.081 -0.003 -0.054]\n",
      " [-0.493 -0.441  0.2    0.085 -0.23   0.434  0.524]\n",
      " [ 0.027 -0.628 -0.698 -0.01   0.061 -0.33   0.065]\n",
      " [-0.634  0.446 -0.237  0.06  -0.357 -0.453  0.077]\n",
      " [ 0.144 -0.148 -0.094  0.029 -0.793  0.244 -0.509]\n",
      " [ 0.362  0.422 -0.515  0.008 -0.155  0.387  0.502]\n",
      " [ 0.446 -0.11   0.376  0.037 -0.395 -0.537  0.449]]\n"
     ]
    }
   ],
   "source": [
    "F_min_eigenvalues, F_min_naturals = np.linalg.eigh(FM_min.alpha)\n",
    "\n",
    "print(F_min_eigenvalues)\n",
    "print(\"\\n\\n\")\n",
    "print(np.round(F_min_naturals, 3))"
   ]
  }
 ],
 "metadata": {
  "kernelspec": {
   "display_name": "Python 3",
   "language": "python",
   "name": "python3"
  },
  "language_info": {
   "codemirror_mode": {
    "name": "ipython",
    "version": 3
   },
   "file_extension": ".py",
   "mimetype": "text/x-python",
   "name": "python",
   "nbconvert_exporter": "python",
   "pygments_lexer": "ipython3",
   "version": "3.7.7"
  }
 },
 "nbformat": 4,
 "nbformat_minor": 4
}
