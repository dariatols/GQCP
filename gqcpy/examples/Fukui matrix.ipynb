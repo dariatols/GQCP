{
 "cells": [
  {
   "cell_type": "code",
   "execution_count": 1,
   "metadata": {},
   "outputs": [],
   "source": [
    "# Force the local gqcpy to be imported\n",
    "import sys\n",
    "sys.path.insert(0, '../../build/gqcpy/')\n",
    "\n",
    "import gqcpy\n",
    "import numpy as np"
   ]
  },
  {
   "cell_type": "markdown",
   "metadata": {},
   "source": [
    "# Fukui matrix spielerei"
   ]
  },
  {
   "cell_type": "code",
   "execution_count": 2,
   "metadata": {},
   "outputs": [],
   "source": [
    "neutral = gqcpy.Molecule.ReadXYZ(\"../../gqcp/tests/data/h2o_crawdad.xyz\" , 0)  # create a neutral molecule\n",
    "ion = gqcpy.Molecule.ReadXYZ(\"../../gqcp/tests/data/h2o_crawdad.xyz\" , +1)  # create a an ion with a depleted electron"
   ]
  },
  {
   "cell_type": "code",
   "execution_count": 3,
   "metadata": {},
   "outputs": [],
   "source": [
    "def C_RHF(molecule):\n",
    "    \n",
    "    N = molecule.numberOfElectrons()\n",
    "    N_P = molecule.numberOfElectronPairs()\n",
    "    \n",
    "    spin_orbital_basis = gqcpy.RSpinOrbitalBasis_d(molecule, \"STO-3G\")\n",
    "    K = spin_orbital_basis.numberOfSpatialOrbitals()\n",
    "    print(\"N: {}\\nN_P: {}\\nK: {}\".format(N, N_P, K))\n",
    "\n",
    "    hamiltonian = gqcpy.RSQHamiltonian.Molecular(spin_orbital_basis, molecule)\n",
    "    S = spin_orbital_basis.quantizeOverlapOperator().parameters()\n",
    "\n",
    "    environment = gqcpy.RHFSCFEnvironment.WithCoreGuess(N, hamiltonian, S)\n",
    "    solver = gqcpy.RHFSCFSolver.Plain()\n",
    "    objective = gqcpy.DiagonalRHFFockMatrixObjective(hamiltonian)  # use the default threshold of 1.0e-08\n",
    "    rhf_parameters = gqcpy.RHF.optimize(objective, solver, environment).groundStateParameters()\n",
    "    \n",
    "    return rhf_parameters.expansion()"
   ]
  },
  {
   "cell_type": "code",
   "execution_count": 4,
   "metadata": {},
   "outputs": [],
   "source": [
    "def C_UHF(molecule):\n",
    "    N = molecule.numberOfElectrons()\n",
    "    N_alpha = N//2 + 1 if N%2 else N//2\n",
    "    N_beta = N//2\n",
    "\n",
    "    spinor_basis = gqcpy.RSpinOrbitalBasis_d(molecule, \"STO-3G\")\n",
    "    K = spinor_basis.numberOfSpatialOrbitals()\n",
    "    print(\"N_alpha: {}\\nN_beta: {}\\nK: {}\".format(N_alpha, N_beta, K))\n",
    "    \n",
    "    hamiltonian = gqcpy.RSQHamiltonian.Molecular(spinor_basis, molecule) \n",
    "    S = spinor_basis.quantizeOverlapOperator().parameters()\n",
    "    \n",
    "    environment = gqcpy.UHFSCFEnvironment.WithCoreGuess(N_alpha, N_beta, hamiltonian, S)\n",
    "    solver = gqcpy.UHFSCFSolver.Plain()\n",
    "    uhf_parameters = gqcpy.UHF.optimize(solver, environment).groundStateParameters()\n",
    "    return uhf_parameters.expansion()"
   ]
  },
  {
   "cell_type": "code",
   "execution_count": 5,
   "metadata": {},
   "outputs": [
    {
     "name": "stdout",
     "output_type": "stream",
     "text": [
      "neutral molecule: \n",
      "N_alpha: 5\n",
      "N_beta: 5\n",
      "K: 7\n",
      "\n",
      "\n",
      "ion:\n",
      "N_alpha: 5\n",
      "N_beta: 4\n",
      "K: 7\n"
     ]
    }
   ],
   "source": [
    "print(\"neutral molecule: \")\n",
    "C_neutral = C_UHF(neutral)\n",
    "print(\"\\n\\nion:\")\n",
    "C_ion = C_UHF(ion)"
   ]
  },
  {
   "cell_type": "code",
   "execution_count": 6,
   "metadata": {},
   "outputs": [],
   "source": [
    "def TM(C_ion, C_neutral):\n",
    "    return C_ion.inverse().transformed(C_neutral)"
   ]
  },
  {
   "cell_type": "code",
   "execution_count": 7,
   "metadata": {},
   "outputs": [],
   "source": [
    "U_alpha = TM(C_ion.alpha, C_neutral.alpha)"
   ]
  },
  {
   "cell_type": "code",
   "execution_count": 8,
   "metadata": {},
   "outputs": [],
   "source": [
    "U_beta = TM(C_ion.beta, C_neutral.beta)"
   ]
  },
  {
   "cell_type": "code",
   "execution_count": 9,
   "metadata": {},
   "outputs": [],
   "source": [
    "U = TM(C_ion, C_neutral)"
   ]
  },
  {
   "cell_type": "markdown",
   "metadata": {},
   "source": [
    "# Dyson orbital spielerei"
   ]
  },
  {
   "cell_type": "markdown",
   "metadata": {},
   "source": [
    "### Random Dyson orbital"
   ]
  },
  {
   "cell_type": "code",
   "execution_count": 10,
   "metadata": {},
   "outputs": [],
   "source": [
    "K = 7\n",
    "\n",
    "onv_basis_I = gqcpy.SpinResolvedONVBasis(K, 5, 4)  # number of spatial orbitals, number of alpha-electrons, number of beta-electrons\n",
    "onv_basis_J = gqcpy.SpinResolvedONVBasis(K, 5, 5)  # number of spatial orbitals, number of alpha-electrons, number of beta-electrons"
   ]
  },
  {
   "cell_type": "code",
   "execution_count": 11,
   "metadata": {},
   "outputs": [],
   "source": [
    "Psi_I = gqcpy.LinearExpansion_SpinResolved.Random(onv_basis_I)\n",
    "#Psi_I.coefficients()\n",
    "Psi_J = gqcpy.LinearExpansion_SpinResolved.Random(onv_basis_J)\n",
    "#Psi_J.coefficients()"
   ]
  },
  {
   "cell_type": "code",
   "execution_count": null,
   "metadata": {},
   "outputs": [],
   "source": []
  },
  {
   "cell_type": "code",
   "execution_count": 12,
   "metadata": {},
   "outputs": [
    {
     "data": {
      "text/plain": [
       "array([ 0.00772793,  0.00713306, -0.04869781,  0.03673818,  0.03034079,\n",
       "       -0.00469882,  0.01650801])"
      ]
     },
     "execution_count": 12,
     "metadata": {},
     "output_type": "execute_result"
    }
   ],
   "source": [
    "d_IJ = gqcpy.DysonOrbital.TransitionAmplitudes(Psi_J, Psi_I)\n",
    "d_IJ.amplitudes()"
   ]
  },
  {
   "cell_type": "code",
   "execution_count": 13,
   "metadata": {},
   "outputs": [],
   "source": [
    "# Andere namen verzinnen voor de componenten later.\n",
    "DM_I = Psi_I.calculateSpinResolved1DM()\n",
    "DM_I_OD = DM_I.orbitalDensity()\n",
    "\n",
    "DM_J = Psi_J.calculateSpinResolved1DM()\n",
    "DM_J_OD = DM_J.orbitalDensity()"
   ]
  },
  {
   "cell_type": "code",
   "execution_count": 14,
   "metadata": {},
   "outputs": [],
   "source": [
    "DM_I_transformed = DM_I.transformed(U)"
   ]
  },
  {
   "cell_type": "code",
   "execution_count": 20,
   "metadata": {},
   "outputs": [],
   "source": [
    "fukui_matrix_neg = (DM_J - DM_I).orbitalDensity()"
   ]
  },
  {
   "cell_type": "code",
   "execution_count": 21,
   "metadata": {},
   "outputs": [
    {
     "data": {
      "text/plain": [
       "array([[ 0.07022595, -0.07553891,  0.04898653, -0.01809982,  0.02576168,\n",
       "         0.00243191,  0.05569602],\n",
       "       [-0.07553891,  0.09918353, -0.04084811, -0.02941051,  0.03015461,\n",
       "        -0.00721007, -0.00834746],\n",
       "       [ 0.04898653, -0.04084811,  0.18127051,  0.06429444, -0.02050953,\n",
       "        -0.00791736,  0.03424409],\n",
       "       [-0.01809982, -0.02941051,  0.06429444,  0.14906124, -0.09056702,\n",
       "         0.02215735, -0.00303485],\n",
       "       [ 0.02576168,  0.03015461, -0.02050953, -0.09056702,  0.15998205,\n",
       "        -0.01723056,  0.06242851],\n",
       "       [ 0.00243191, -0.00721007, -0.00791736,  0.02215735, -0.01723056,\n",
       "         0.16206409, -0.09034485],\n",
       "       [ 0.05569602, -0.00834746,  0.03424409, -0.00303485,  0.06242851,\n",
       "        -0.09034485,  0.17821262]])"
      ]
     },
     "execution_count": 21,
     "metadata": {},
     "output_type": "execute_result"
    }
   ],
   "source": [
    "fukui_matrix_neg"
   ]
  },
  {
   "cell_type": "markdown",
   "metadata": {},
   "source": [
    "### FCI Dyson orbital"
   ]
  },
  {
   "cell_type": "code",
   "execution_count": 16,
   "metadata": {},
   "outputs": [],
   "source": [
    "def FCI(molecule, onv_basis):\n",
    "    u_spin_orbital_basis = gqcpy.USpinOrbitalBasis_d(molecule, \"STO-3G\")\n",
    "    u_spin_orbital_basis.lowdinOrthonormalize()\n",
    "    \n",
    "    u_hamiltonian = gqcpy.USQHamiltonian.Molecular(u_spin_orbital_basis, molecule)\n",
    "    \n",
    "    solver = gqcpy.EigenproblemSolver.Dense()\n",
    "    environment = gqcpy.CIEnvironment.Dense(u_hamiltonian, onv_basis)\n",
    "\n",
    "    ci_parameters = gqcpy.CI(onv_basis).optimize(solver, environment).groundStateParameters()\n",
    "    \n",
    "    return ci_parameters"
   ]
  },
  {
   "cell_type": "code",
   "execution_count": 17,
   "metadata": {},
   "outputs": [],
   "source": [
    "Psi_J = FCI(neutral, onv_basis_J)\n",
    "Psi_I = FCI(ion, onv_basis_I)"
   ]
  },
  {
   "cell_type": "code",
   "execution_count": 18,
   "metadata": {},
   "outputs": [
    {
     "data": {
      "text/plain": [
       "array([ 3.87269627e-16, -2.14325442e-15, -2.17202118e-14,  3.34082558e-14,\n",
       "       -9.43605291e-01,  9.04945553e-15, -1.96580681e-14])"
      ]
     },
     "execution_count": 18,
     "metadata": {},
     "output_type": "execute_result"
    }
   ],
   "source": [
    "d_IJ = gqcpy.DysonOrbital.TransitionAmplitudes(Psi_J, Psi_I)\n",
    "d_IJ.amplitudes()"
   ]
  },
  {
   "cell_type": "code",
   "execution_count": null,
   "metadata": {},
   "outputs": [],
   "source": []
  },
  {
   "cell_type": "code",
   "execution_count": null,
   "metadata": {},
   "outputs": [],
   "source": []
  },
  {
   "cell_type": "code",
   "execution_count": null,
   "metadata": {},
   "outputs": [],
   "source": []
  }
 ],
 "metadata": {
  "kernelspec": {
   "display_name": "Python 3",
   "language": "python",
   "name": "python3"
  },
  "language_info": {
   "codemirror_mode": {
    "name": "ipython",
    "version": 3
   },
   "file_extension": ".py",
   "mimetype": "text/x-python",
   "name": "python",
   "nbconvert_exporter": "python",
   "pygments_lexer": "ipython3",
   "version": "3.7.7"
  }
 },
 "nbformat": 4,
 "nbformat_minor": 4
}
