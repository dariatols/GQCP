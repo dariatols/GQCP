{
 "cells": [
  {
   "cell_type": "code",
   "execution_count": 1,
   "metadata": {},
   "outputs": [],
   "source": [
    "# Force the local gqcpy to be imported\n",
    "import sys\n",
    "sys.path.insert(0, '../../build/gqcpy/')\n",
    "\n",
    "import gqcpy\n",
    "import numpy as np"
   ]
  },
  {
   "cell_type": "code",
   "execution_count": 2,
   "metadata": {},
   "outputs": [],
   "source": [
    "def transformation(C_ion, C_neutral):\n",
    "    return np.linalg.inv(C_ion) @ C_neutral"
   ]
  },
  {
   "cell_type": "code",
   "execution_count": 8,
   "metadata": {},
   "outputs": [],
   "source": [
    "molecule = gqcpy.Molecule.ReadXYZ(\"../../gqcp/tests/data/h2o_crawdad.xyz\" , 0)  # create a neutral molecule\n",
    "N = molecule.numberOfElectrons()\n",
    "N_P = molecule.numberOfElectronPairs()\n",
    "\n",
    "spin_orbital_basis = gqcpy.RSpinOrbitalBasis_d(molecule, \"STO-3G\")\n",
    "K = spin_orbital_basis.numberOfSpatialOrbitals()"
   ]
  },
  {
   "cell_type": "code",
   "execution_count": 13,
   "metadata": {},
   "outputs": [],
   "source": [
    "hamiltonian = gqcpy.RSQHamiltonian.Molecular(spin_orbital_basis, molecule)\n",
    "S = spin_orbital_basis.quantizeOverlapOperator().parameters()\n",
    "\n",
    "environment = gqcpy.RHFSCFEnvironment.WithCoreGuess(N, hamiltonian, S)\n",
    "solver = gqcpy.RHFSCFSolver.Plain()\n",
    "objective = gqcpy.DiagonalRHFFockMatrixObjective(hamiltonian)  # use the default threshold of 1.0e-08\n",
    "rhf_parameters = gqcpy.RHF.optimize(objective, solver, environment).groundStateParameters()"
   ]
  },
  {
   "cell_type": "code",
   "execution_count": 14,
   "metadata": {},
   "outputs": [],
   "source": [
    "C_neutral = rhf_parameters.expansion()"
   ]
  },
  {
   "cell_type": "code",
   "execution_count": 16,
   "metadata": {},
   "outputs": [
    {
     "ename": "AttributeError",
     "evalue": "'gqcpy.RTransformation_d' object has no attribute 'print'",
     "output_type": "error",
     "traceback": [
      "\u001b[0;31m---------------------------------------------------------------------------\u001b[0m",
      "\u001b[0;31mAttributeError\u001b[0m                            Traceback (most recent call last)",
      "\u001b[0;32m<ipython-input-16-3437ec68465a>\u001b[0m in \u001b[0;36m<module>\u001b[0;34m\u001b[0m\n\u001b[0;32m----> 1\u001b[0;31m \u001b[0mC_neutral\u001b[0m\u001b[0;34m.\u001b[0m\u001b[0mprint\u001b[0m\u001b[0;34m(\u001b[0m\u001b[0;34m)\u001b[0m\u001b[0;34m\u001b[0m\u001b[0;34m\u001b[0m\u001b[0m\n\u001b[0m",
      "\u001b[0;31mAttributeError\u001b[0m: 'gqcpy.RTransformation_d' object has no attribute 'print'"
     ]
    }
   ],
   "source": [
    "C_neutral.print()"
   ]
  },
  {
   "cell_type": "code",
   "execution_count": null,
   "metadata": {},
   "outputs": [],
   "source": []
  },
  {
   "cell_type": "code",
   "execution_count": 4,
   "metadata": {},
   "outputs": [],
   "source": [
    "K = 5\n",
    "N_P = 1\n",
    "\n",
    "onv_basis_I = gqcpy.SpinResolvedONVBasis(K, N_P, N_P - 1)  # number of spatial orbitals, number of alpha-electrons, number of beta-electrons\n",
    "onv_basis_J = gqcpy.SpinResolvedONVBasis(K, N_P, N_P)  # number of spatial orbitals, number of alpha-electrons, number of beta-electrons"
   ]
  },
  {
   "cell_type": "code",
   "execution_count": 5,
   "metadata": {},
   "outputs": [
    {
     "data": {
      "text/plain": [
       "array([ 0.30543516,  0.7405084 , -0.19845664,  0.03307619,  0.56380636])"
      ]
     },
     "execution_count": 5,
     "metadata": {},
     "output_type": "execute_result"
    }
   ],
   "source": [
    "Psi_I = gqcpy.LinearExpansion_SpinResolved.Random(onv_basis_I)\n",
    "Psi_I.coefficients()"
   ]
  },
  {
   "cell_type": "code",
   "execution_count": 6,
   "metadata": {},
   "outputs": [
    {
     "data": {
      "text/plain": [
       "array([-0.31743122, -0.30454818,  0.02025613,  0.11672733, -0.33575977,\n",
       "       -0.07951288, -0.29542234, -0.05627623,  0.12738276,  0.06068387,\n",
       "        0.29356638,  0.23609281,  0.01836597, -0.27828818,  0.10497584,\n",
       "       -0.05729013,  0.13721605,  0.27984709,  0.17882436, -0.16201185,\n",
       "       -0.30863834,  0.16101261, -0.11714772,  0.09046218,  0.17487713])"
      ]
     },
     "execution_count": 6,
     "metadata": {},
     "output_type": "execute_result"
    }
   ],
   "source": [
    "Psi_J = gqcpy.LinearExpansion_SpinResolved.Random(onv_basis_J)\n",
    "Psi_J.coefficients()"
   ]
  },
  {
   "cell_type": "code",
   "execution_count": 7,
   "metadata": {},
   "outputs": [],
   "source": [
    "# Andere namen verzinnen voor de componenten later.\n",
    "DM_I = Psi_I.calculateSpinResolved1DM()\n",
    "DM_I_OD = DM_I.orbitalDensity()\n",
    "DM_I_alpha = DM_I.alpha()\n",
    "DM_I_beta = DM_I.beta()\n",
    "\n",
    "DM_J = Psi_J.calculateSpinResolved1DM()\n",
    "DM_J_OD = DM_J.orbitalDensity()\n",
    "DM_J_alpha = DM_J.alpha()\n",
    "DM_J_beta = DM_J.beta()"
   ]
  },
  {
   "cell_type": "code",
   "execution_count": null,
   "metadata": {},
   "outputs": [],
   "source": []
  },
  {
   "cell_type": "code",
   "execution_count": null,
   "metadata": {},
   "outputs": [],
   "source": []
  }
 ],
 "metadata": {
  "kernelspec": {
   "display_name": "Python 3",
   "language": "python",
   "name": "python3"
  },
  "language_info": {
   "codemirror_mode": {
    "name": "ipython",
    "version": 3
   },
   "file_extension": ".py",
   "mimetype": "text/x-python",
   "name": "python",
   "nbconvert_exporter": "python",
   "pygments_lexer": "ipython3",
   "version": "3.7.7"
  }
 },
 "nbformat": 4,
 "nbformat_minor": 4
}
